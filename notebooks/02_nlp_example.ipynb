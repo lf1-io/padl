{
 "cells": [
  {
   "cell_type": "markdown",
   "id": "2b9e8d97",
   "metadata": {},
   "source": [
    "# Install Padl "
   ]
  },
  {
   "cell_type": "code",
   "execution_count": null,
   "id": "0aacc791",
   "metadata": {},
   "outputs": [],
   "source": [
    "!pip install padl"
   ]
  },
  {
   "cell_type": "code",
   "execution_count": null,
   "id": "1be84822",
   "metadata": {},
   "outputs": [],
   "source": [
    "from IPython.display import Image\n",
    "\n",
    "Image('../img/schematic.png', width=300)"
   ]
  },
  {
   "cell_type": "code",
   "execution_count": null,
   "id": "aec0b4a5",
   "metadata": {},
   "outputs": [],
   "source": [
    "from padl import same, transform, batch, unbatch, value, IfTrain\n",
    "\n",
    "import torch\n",
    "import re\n",
    "import json\n",
    "\n",
    "with open('data/lm/train.json') as f: train_data = json.load(f)\n",
    "with open('data/lm/valid.json') as f: valid_data = json.load(f)\n",
    "    \n",
    "WORDS = []\n",
    "for x in train_data:\n",
    "    WORDS.extend(x.split())\n",
    "WORDS = sorted(list(set(WORDS)))"
   ]
  },
  {
   "cell_type": "code",
   "execution_count": null,
   "id": "cf148c36",
   "metadata": {},
   "outputs": [],
   "source": [
    "lower_case = same.lower()\n",
    "\n",
    "clean = transform(lambda x: re.sub('[^a-zA_Z ]', '', x))\n",
    "\n",
    "@transform\n",
    "def tokenize(sentence):\n",
    "    return sentence.split()\n",
    "\n",
    "@transform\n",
    "class ToInteger:\n",
    "    def __init__(self, words):\n",
    "        self.words = words + ['</s>']\n",
    "        self.dictionary = dict(zip(self.words, range(len(self.words))))\n",
    "        \n",
    "    def __call__(self, word):\n",
    "        if not word in self.dictionary:\n",
    "            word = \"<unk>\"\n",
    "        return self.dictionary[word]\n",
    "    \n",
    "to_integer = ToInteger(value(WORDS))\n",
    "EOS_VALUE = to_integer.dictionary['</s>']\n",
    "\n",
    "\n",
    "@transform\n",
    "def to_tensor(x):\n",
    "    x = list(x[:10][:])\n",
    "    for _ in range(10 - len(x)):\n",
    "        x.append(EOS_VALUE)\n",
    "    return torch.tensor(x)\n",
    "\n",
    "\n",
    "left_shift = same[:, :-1]\n",
    "right_shift = same[:, 1:]\n",
    "\n",
    "unk_value = value(to_integer.dictionary['<unk>'])\n",
    "WORD_DROPOUT_PROBABILITY = 0.2\n",
    "\n",
    "@transform\n",
    "def word_dropout(tensor_input):\n",
    "    mask = (\n",
    "        torch.rand(*tensor_input.shape) > WORD_DROPOUT_PROBABILITY\n",
    "    ).type(torch.long)\n",
    "    out = mask * tensor_input + (1 - mask) * UNK_VALUE\n",
    "    return out\n",
    "\n",
    "@transform\n",
    "class Loss:\n",
    "    def __call__(self, x, y):\n",
    "        l = 0\n",
    "        for i in range(x.shape[0]):\n",
    "            l += torch.nn.functional.cross_entropy(x[i], y[i])\n",
    "        return l / x.shape[0]\n",
    "    \n",
    "loss = Loss()\n",
    "\n",
    "@transform\n",
    "class LM(torch.nn.Module):\n",
    "    def __init__(self, n_words):\n",
    "        super().__init__()\n",
    "        self.rnn = torch.nn.GRU(64, 512, 2, batch_first=True)\n",
    "        self.embed = torch.nn.Embedding(n_words, 64)\n",
    "        self.project = torch.nn.Linear(512, n_words)\n",
    "        \n",
    "    def forward(self, x):\n",
    "        output = self.rnn(self.embed(x))[0]\n",
    "        return self.project(output)\n",
    "\n",
    "    \n",
    "N_WORDS = value(len(to_integer.words))\n",
    "model = LM(N_WORDS)"
   ]
  },
  {
   "cell_type": "code",
   "execution_count": null,
   "id": "64b847f3",
   "metadata": {},
   "outputs": [],
   "source": [
    "for t in [\n",
    "    lower_case,\n",
    "    clean,\n",
    "    tokenize,\n",
    "    to_integer,\n",
    "    to_tensor,\n",
    "    left_shift,\n",
    "    right_shift,\n",
    "    loss,\n",
    "    model,\n",
    "]:\n",
    "    print('-' * 10)\n",
    "    print(t)"
   ]
  },
  {
   "cell_type": "code",
   "execution_count": null,
   "id": "934d4ca7",
   "metadata": {
    "scrolled": true
   },
   "outputs": [],
   "source": [
    "preprocess = (\n",
    "    lower_case\n",
    "    >> clean\n",
    "    >> tokenize\n",
    "    >> ~ to_integer\n",
    "    >> to_tensor\n",
    "    >> batch\n",
    ")\n",
    "\n",
    "preprocess"
   ]
  },
  {
   "cell_type": "code",
   "execution_count": null,
   "id": "1508918f",
   "metadata": {},
   "outputs": [],
   "source": [
    "forward_pass = (\n",
    "    left_shift\n",
    "    >> IfTrain(word_dropout)\n",
    "    >> model\n",
    ")\n",
    "\n",
    "forward_pass"
   ]
  },
  {
   "cell_type": "code",
   "execution_count": null,
   "id": "f0346e38",
   "metadata": {},
   "outputs": [],
   "source": [
    "targets = (\n",
    "    preprocess >> right_shift\n",
    ")\n",
    "\n",
    "targets"
   ]
  },
  {
   "cell_type": "code",
   "execution_count": null,
   "id": "110decae",
   "metadata": {},
   "outputs": [],
   "source": [
    "train_model = (\n",
    "    (preprocess >> model >> left_shift)\n",
    "    + targets\n",
    ") >> loss\n",
    "\n",
    "train_model"
   ]
  },
  {
   "cell_type": "code",
   "execution_count": null,
   "id": "e90a742e",
   "metadata": {},
   "outputs": [],
   "source": [
    "train_model.infer_apply('test an input')"
   ]
  },
  {
   "cell_type": "code",
   "execution_count": null,
   "id": "854a9458",
   "metadata": {},
   "outputs": [],
   "source": [
    "optimizer = torch.optim.Adam(train_model.pd_parameters())\n",
    "\n",
    "for l in train_model.train_apply(train_data[:100], batch_size=10):\n",
    "    optimizer.zero_grad()\n",
    "    l.backward()\n",
    "    optimizer.step()\n",
    "    print('loss is:', l.item())"
   ]
  },
  {
   "cell_type": "code",
   "execution_count": null,
   "id": "f79db8cb",
   "metadata": {},
   "outputs": [],
   "source": [
    "train_model.pd_save('test.padl', force_overwrite=True)"
   ]
  },
  {
   "cell_type": "code",
   "execution_count": null,
   "id": "df68852b",
   "metadata": {},
   "outputs": [],
   "source": [
    "!ls test.padl"
   ]
  },
  {
   "cell_type": "code",
   "execution_count": null,
   "id": "0fb3aa6d",
   "metadata": {},
   "outputs": [],
   "source": [
    "!cat test.padl/versions.txt"
   ]
  },
  {
   "cell_type": "code",
   "execution_count": null,
   "id": "82036b3b",
   "metadata": {},
   "outputs": [],
   "source": [
    "!cat test.padl/transform.py"
   ]
  }
 ],
 "metadata": {
  "kernelspec": {
   "display_name": "Python 3",
   "language": "python",
   "name": "python3"
  },
  "language_info": {
   "codemirror_mode": {
    "name": "ipython",
    "version": 3
   },
   "file_extension": ".py",
   "mimetype": "text/x-python",
   "name": "python",
   "nbconvert_exporter": "python",
   "pygments_lexer": "ipython3",
   "version": "3.8.8"
  }
 },
 "nbformat": 4,
 "nbformat_minor": 5
}
