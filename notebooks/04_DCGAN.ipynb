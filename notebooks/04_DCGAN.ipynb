{
 "cells": [
  {
   "cell_type": "code",
   "execution_count": 1,
   "id": "atomic-trick",
   "metadata": {},
   "outputs": [
    {
     "name": "stdout",
     "output_type": "stream",
     "text": [
      "/home/duncan/sheen\n"
     ]
    }
   ],
   "source": [
    "cd ~/sheen"
   ]
  },
  {
   "cell_type": "markdown",
   "id": "7e195415",
   "metadata": {},
   "source": [
    "This tutorial shows you how to use PADL to build pipelines in PyTorch on an iconic deep learning class - generating celebrity faces! We follow the PyTorch example closely, which will allow you to compare and contrast how to build\n",
    "equivalent functionality with PADL."
   ]
  },
  {
   "cell_type": "code",
   "execution_count": 2,
   "id": "handy-librarian",
   "metadata": {},
   "outputs": [],
   "source": [
    "dataroot = \"data/celeba/img_align_celeba/\"\n",
    "workers = 2\n",
    "batch_size = 128\n",
    "image_size = 64\n",
    "nc = 3\n",
    "nz = 100\n",
    "ngf = 64\n",
    "ndf = 64\n",
    "num_epochs = 5\n",
    "lr = 0.0002\n",
    "beta1 = 0.5\n",
    "ngpu = 1"
   ]
  },
  {
   "cell_type": "markdown",
   "id": "d06c6030",
   "metadata": {},
   "source": [
    "Let's import some key functions - from PADL and torchvision (since we'll be generating images). We can use all of the functionality in torchvision, and any third party packages, by wrapping a module in the package with `transform`."
   ]
  },
  {
   "cell_type": "code",
   "execution_count": 3,
   "id": "ethical-religion",
   "metadata": {},
   "outputs": [],
   "source": [
    "from padl import transform\n",
    "from torchvision import transforms as vision\n",
    "\n",
    "vision = transform(vision)"
   ]
  },
  {
   "cell_type": "markdown",
   "id": "ab4a2cf8",
   "metadata": {},
   "source": [
    "Now we can compose any functions or callables with a nice piping syntax, combining transforms into a single pipeline. The pipeline has a handy print functionality, to really see what is going on in there."
   ]
  },
  {
   "cell_type": "code",
   "execution_count": 4,
   "id": "registered-lucas",
   "metadata": {},
   "outputs": [
    {
     "data": {
      "text/plain": [
       "\u001b[1mCompose\u001b[0m - \"image_prep\":\n",
       "\n",
       "   \u001b[32m   │\n",
       "      ▼ img\u001b[0m\n",
       "   \u001b[1m0: \u001b[0mResize(size=64)                                     \n",
       "   \u001b[32m   │\n",
       "      ▼ img\u001b[0m\n",
       "   \u001b[1m1: \u001b[0mCenterCrop(size=64)                                 \n",
       "   \u001b[32m   │\n",
       "      ▼ pic\u001b[0m\n",
       "   \u001b[1m2: \u001b[0mToTensor()                                          \n",
       "   \u001b[32m   │\n",
       "      ▼ tensor\u001b[0m\n",
       "   \u001b[1m3: \u001b[0mNormalize(mean=(0.5, 0.5, 0.5), std=(0.5, 0.5, 0.5))"
      ]
     },
     "execution_count": 4,
     "metadata": {},
     "output_type": "execute_result"
    }
   ],
   "source": [
    "image_prep = (\n",
    "    vision.Resize(image_size)\n",
    "    >> vision.CenterCrop(image_size)\n",
    "    >> vision.ToTensor()\n",
    "    >> vision.Normalize((0.5, 0.5, 0.5), (0.5, 0.5, 0.5))\n",
    ")\n",
    "image_prep"
   ]
  },
  {
   "cell_type": "markdown",
   "id": "9a3005ab",
   "metadata": {},
   "source": [
    "These pipelines are callable - we can test this on an image from the image folder"
   ]
  },
  {
   "cell_type": "code",
   "execution_count": 5,
   "id": "3a5f7789",
   "metadata": {},
   "outputs": [
    {
     "data": {
      "text/plain": [
       "tensor([[[ 1.0000,  1.0000,  1.0000,  ...,  0.9529,  0.9608,  0.9608],\n",
       "         [ 0.9922,  0.9922,  0.9922,  ...,  0.9451,  0.9608,  0.9608],\n",
       "         [ 0.9922,  0.9922,  0.9922,  ...,  0.9373,  0.9608,  0.9686],\n",
       "         ...,\n",
       "         [ 0.3020,  0.2627,  0.1137,  ...,  0.4275,  0.4510,  0.4510],\n",
       "         [ 0.3569,  0.2941,  0.2549,  ...,  0.3647,  0.3490,  0.3725],\n",
       "         [ 0.3882,  0.3647,  0.3804,  ...,  0.5686,  0.4902,  0.4196]],\n",
       "\n",
       "        [[ 0.8431,  0.8431,  0.8431,  ...,  0.8588,  0.8588,  0.8824],\n",
       "         [ 0.8431,  0.8431,  0.8431,  ...,  0.8824,  0.8667,  0.8980],\n",
       "         [ 0.8510,  0.8510,  0.8510,  ...,  0.8902,  0.8745,  0.8902],\n",
       "         ...,\n",
       "         [-0.2078, -0.2157, -0.3333,  ...,  0.0275,  0.0510,  0.0510],\n",
       "         [-0.1529, -0.2078, -0.2314,  ..., -0.0667, -0.0667, -0.0353],\n",
       "         [-0.1294, -0.1451, -0.1059,  ...,  0.1451,  0.0824,  0.0196]],\n",
       "\n",
       "        [[ 0.5529,  0.5529,  0.5529,  ...,  0.6784,  0.7490,  0.8039],\n",
       "         [ 0.5529,  0.5529,  0.5529,  ...,  0.7098,  0.7569,  0.8039],\n",
       "         [ 0.5529,  0.5529,  0.5529,  ...,  0.7333,  0.7569,  0.7804],\n",
       "         ...,\n",
       "         [-0.4824, -0.5137, -0.6471,  ..., -0.1922, -0.1686, -0.1608],\n",
       "         [-0.4510, -0.4980, -0.5059,  ..., -0.3255, -0.2784, -0.2392],\n",
       "         [-0.4667, -0.4667, -0.4196,  ..., -0.1451, -0.1843, -0.2392]]])"
      ]
     },
     "execution_count": 5,
     "metadata": {},
     "output_type": "execute_result"
    }
   ],
   "source": [
    "import PIL.Image\n",
    "image_prep(PIL.Image.open('data/celeba/img_align_celeba/000001.jpg'))"
   ]
  },
  {
   "cell_type": "markdown",
   "id": "5abf20db",
   "metadata": {},
   "source": [
    "To check the intermediate steps of the transform, we can use a handy subsetting functionality"
   ]
  },
  {
   "cell_type": "code",
   "execution_count": 6,
   "id": "e42481d0",
   "metadata": {},
   "outputs": [
    {
     "data": {
      "image/png": "[encoded data removed]",
      "text/plain": [
       "<PIL.Image.Image image mode=RGB size=64x64 at 0x7F5F639DB970>"
      ]
     },
     "execution_count": 6,
     "metadata": {},
     "output_type": "execute_result"
    }
   ],
   "source": [
    "image_prep[:2](PIL.Image.open('data/celeba/img_align_celeba/000001.jpg'))"
   ]
  },
  {
   "cell_type": "markdown",
   "id": "15ce5b39",
   "metadata": {},
   "source": [
    "We can define custom transforms by decorating functions or callable classes with `@transform`. We can also wrap single functions as we do here with `PIL.Image.open`."
   ]
  },
  {
   "cell_type": "code",
   "execution_count": 7,
   "id": "proved-soundtrack",
   "metadata": {},
   "outputs": [
    {
     "data": {
      "image/png": "[encoded data removed]",
      "text/plain": [
       "<PIL.JpegImagePlugin.JpegImageFile image mode=RGB size=178x218 at 0x7F5F5E164940>"
      ]
     },
     "execution_count": 7,
     "metadata": {},
     "output_type": "execute_result"
    }
   ],
   "source": [
    "import numpy\n",
    "import os\n",
    "import random\n",
    "\n",
    "images = [f'{dataroot}/{x}' for x in os.listdir(dataroot)]\n",
    "\n",
    "@transform\n",
    "def random_image(*args, **kwargs):\n",
    "    image = random.choice(images)\n",
    "    return image\n",
    "\n",
    "load_image = transform(PIL.Image.open)\n",
    "    \n",
    "    \n",
    "(random_image >> load_image)(())"
   ]
  },
  {
   "cell_type": "markdown",
   "id": "fbe39dea",
   "metadata": {},
   "source": [
    "Now we can combine these steps to get an image tensor sampler."
   ]
  },
  {
   "cell_type": "code",
   "execution_count": 8,
   "id": "fifty-default",
   "metadata": {},
   "outputs": [
    {
     "data": {
      "text/plain": [
       "tensor([[[0.9059, 0.9059, 0.9059,  ..., 0.8745, 0.8824, 0.8902],\n",
       "         [0.9059, 0.9059, 0.9059,  ..., 0.8667, 0.8745, 0.8902],\n",
       "         [0.9059, 0.9059, 0.9059,  ..., 0.8667, 0.8824, 0.8902],\n",
       "         ...,\n",
       "         [0.5294, 0.5922, 0.6235,  ..., 0.8667, 0.8824, 0.8824],\n",
       "         [0.5686, 0.6078, 0.6471,  ..., 0.7098, 0.8196, 0.8745],\n",
       "         [0.6784, 0.6549, 0.6392,  ..., 0.4745, 0.5843, 0.7490]],\n",
       "\n",
       "        [[0.9059, 0.9059, 0.9059,  ..., 0.8745, 0.8824, 0.8902],\n",
       "         [0.9059, 0.9059, 0.9059,  ..., 0.8667, 0.8745, 0.8902],\n",
       "         [0.9059, 0.9059, 0.9059,  ..., 0.8667, 0.8824, 0.8902],\n",
       "         ...,\n",
       "         [0.5294, 0.5922, 0.6235,  ..., 0.8745, 0.8902, 0.8824],\n",
       "         [0.5686, 0.6078, 0.6471,  ..., 0.7176, 0.8275, 0.8745],\n",
       "         [0.6784, 0.6549, 0.6392,  ..., 0.4824, 0.5922, 0.7490]],\n",
       "\n",
       "        [[0.9059, 0.9059, 0.9059,  ..., 0.8588, 0.8588, 0.8902],\n",
       "         [0.9059, 0.9059, 0.9059,  ..., 0.8667, 0.8745, 0.8980],\n",
       "         [0.9059, 0.9059, 0.9059,  ..., 0.8745, 0.8980, 0.9137],\n",
       "         ...,\n",
       "         [0.5373, 0.6000, 0.6392,  ..., 0.8902, 0.9059, 0.8980],\n",
       "         [0.5765, 0.6078, 0.6471,  ..., 0.7490, 0.8588, 0.9137],\n",
       "         [0.6784, 0.6549, 0.6392,  ..., 0.5059, 0.6235, 0.7804]]])"
      ]
     },
     "execution_count": 8,
     "metadata": {},
     "output_type": "execute_result"
    }
   ],
   "source": [
    "image_loader = (random_image >> load_image >> image_prep)\n",
    "image_loader(())"
   ]
  },
  {
   "cell_type": "markdown",
   "id": "44ae5e19",
   "metadata": {},
   "source": [
    "Pytorch layers are first class citizens in PADL, and can be converted to PADL just as before with `@transform`. PADL tracks all torch functionality by composing the class with a PADL object."
   ]
  },
  {
   "cell_type": "code",
   "execution_count": 9,
   "id": "c9221dba",
   "metadata": {},
   "outputs": [],
   "source": [
    "import torch\n",
    "\n",
    "def weights_init(m):\n",
    "    classname = m.__class__.__name__\n",
    "    if classname.find('Conv') != -1:\n",
    "        torch.nn.init.normal_(m.weight.data, 0.0, 0.02)\n",
    "    elif classname.find('BatchNorm') != -1:\n",
    "        torch.nn.init.normal_(m.weight.data, 1.0, 0.02)\n",
    "        torch.nn.init.constant_(m.bias.data, 0)\n",
    "\n",
    "@transform\n",
    "class Generator(torch.nn.Module):\n",
    "    def __init__(self, ngpu):\n",
    "        super().__init__()\n",
    "        self.ngpu = ngpu\n",
    "        self.main = torch.nn.Sequential(\n",
    "            # input is Z, going into a convolution\n",
    "            torch.nn.ConvTranspose2d( nz, ngf * 8, 4, 1, 0, bias=False),\n",
    "            torch.nn.BatchNorm2d(ngf * 8),\n",
    "            torch.nn.ReLU(True),\n",
    "            # state size. (ngf*8) x 4 x 4\n",
    "            torch.nn.ConvTranspose2d(ngf * 8, ngf * 4, 4, 2, 1, bias=False),\n",
    "            torch.nn.BatchNorm2d(ngf * 4),\n",
    "            torch.nn.ReLU(True),\n",
    "            # state size. (ngf*4) x 8 x 8\n",
    "            torch.nn.ConvTranspose2d( ngf * 4, ngf * 2, 4, 2, 1, bias=False),\n",
    "            torch.nn.BatchNorm2d(ngf * 2),\n",
    "            torch.nn.ReLU(True),\n",
    "            # state size. (ngf*2) x 16 x 16\n",
    "            torch.nn.ConvTranspose2d( ngf * 2, ngf, 4, 2, 1, bias=False),\n",
    "            torch.nn.BatchNorm2d(ngf),\n",
    "            torch.nn.ReLU(True),\n",
    "            # state size. (ngf) x 32 x 32\n",
    "            torch.nn.ConvTranspose2d( ngf, nc, 4, 2, 1, bias=False),\n",
    "            torch.nn.Tanh()\n",
    "            # state size. (nc) x 64 x 64\n",
    "        )\n",
    "        self.apply(weights_init)\n",
    "\n",
    "    def forward(self, input):\n",
    "        return self.main(input)\n",
    "    \n",
    "\n",
    "@transform\n",
    "class Discriminator(torch.nn.Module):\n",
    "    def __init__(self, ngpu):\n",
    "        super().__init__()\n",
    "        self.ngpu = ngpu\n",
    "        self.main = torch.nn.Sequential(\n",
    "            # input is (nc) x 64 x 64\n",
    "            torch.nn.Conv2d(nc, ndf, 4, 2, 1, bias=False),\n",
    "            torch.nn.LeakyReLU(0.2, inplace=True),\n",
    "            # state size. (ndf) x 32 x 32\n",
    "            torch.nn.Conv2d(ndf, ndf * 2, 4, 2, 1, bias=False),\n",
    "            torch.nn.BatchNorm2d(ndf * 2),\n",
    "            torch.nn.LeakyReLU(0.2, inplace=True),\n",
    "            # state size. (ndf*2) x 16 x 16\n",
    "            torch.nn.Conv2d(ndf * 2, ndf * 4, 4, 2, 1, bias=False),\n",
    "            torch.nn.BatchNorm2d(ndf * 4),\n",
    "            torch.nn.LeakyReLU(0.2, inplace=True),\n",
    "            # state size. (ndf*4) x 8 x 8\n",
    "            torch.nn.Conv2d(ndf * 4, ndf * 8, 4, 2, 1, bias=False),\n",
    "            torch.nn.BatchNorm2d(ndf * 8),\n",
    "            torch.nn.LeakyReLU(0.2, inplace=True),\n",
    "            # state size. (ndf*8) x 4 x 4\n",
    "            torch.nn.Conv2d(ndf * 8, 1, 4, 1, 0, bias=False),\n",
    "            torch.nn.Sigmoid()\n",
    "        )\n",
    "        self.apply(weights_init)\n",
    "\n",
    "    def forward(self, input):\n",
    "        return self.main(input)\n",
    "    \n",
    "\n",
    "netD = Discriminator(ngpu)\n",
    "netG = Generator(ngpu)"
   ]
  },
  {
   "cell_type": "markdown",
   "id": "a4270650",
   "metadata": {},
   "source": [
    "We do something similar for the generator model.\n",
    "\n",
    "Here we use the keyword `same` which allows for a sort of neat inline lambda function. Standard `lambda` functions are also supported.\n",
    "\n",
    "You'll also see the `batch` and `unbatch` keywords. These define where the preprocessing ends and forward pass begins, and forward pass ends and postprocessing begins.\n",
    "\n",
    "When used in batch-mode (see below), everything prior to the `batch` is wrapped into a `torch.utils.data.DataLoader`. Every after `unbatch` is mapped over the individual batch elements of the forward pass. When used in single data-point mode, a single element batch is constructed.\n",
    "\n",
    "This leads to far less boilerplate, and far fewer errors with batch dimensions, etc.. \n",
    "\n",
    "The *main* advantage of this, however, is that it allows the program to isolate all bits of code to run the generation pipeline, and to export these into a single portable saved artifact. This artifact may be then shared, compressed, imported into a serving environment etc.."
   ]
  },
  {
   "cell_type": "code",
   "execution_count": 10,
   "id": "hungry-helen",
   "metadata": {},
   "outputs": [
    {
     "data": {
      "text/plain": [
       "\u001b[1mCompose\u001b[0m - \"generator\":\n",
       "\n",
       "   \u001b[32m   │\n",
       "      ▼ dummy\u001b[0m\n",
       "   \u001b[1m0: \u001b[0mgenerate_noise                  \n",
       "   \u001b[32m   │\n",
       "      ▼ args\u001b[0m\n",
       "   \u001b[1m1: \u001b[0mBatchify(dim=0)                 \n",
       "   \u001b[32m   │\n",
       "      ▼ input\u001b[0m\n",
       "   \u001b[1m2: \u001b[0mGenerator(ngpu=1)               \n",
       "   \u001b[32m   │\n",
       "      ▼ args\u001b[0m\n",
       "   \u001b[1m3: \u001b[0mUnbatchify(dim=0, cpu=True)     \n",
       "   \u001b[32m   │\n",
       "      ▼ x\u001b[0m\n",
       "   \u001b[1m4: \u001b[0mdenormalize                     \n",
       "   \u001b[32m   │\n",
       "      ▼ args\u001b[0m\n",
       "   \u001b[1m5: \u001b[0mtranspose(1, 2, 0)              \n",
       "   \u001b[32m   │\n",
       "      ▼ x\u001b[0m\n",
       "   \u001b[1m6: \u001b[0mlambda x: PIL.Image.fromarray(x)"
      ]
     },
     "execution_count": 10,
     "metadata": {},
     "output_type": "execute_result"
    }
   ],
   "source": [
    "from padl import batch, unbatch, same\n",
    "import torch\n",
    "import numpy\n",
    "\n",
    "\n",
    "@transform\n",
    "def generate_noise(dummy):\n",
    "    return torch.randn(nz, 1, 1)\n",
    "\n",
    "\n",
    "@transform\n",
    "def denormalize(x):\n",
    "    rescaled = 255 * (x * 0.5 + 0.5)\n",
    "    converted = rescaled.numpy()\n",
    "    return converted.astype(numpy.uint8)\n",
    "    \n",
    "    \n",
    "generator = (\n",
    "    generate_noise\n",
    "    >> batch\n",
    "    >> netG\n",
    "    >> unbatch\n",
    "    >> denormalize\n",
    "    >> same.transpose(1, 2, 0)\n",
    "    >> transform(lambda x: PIL.Image.fromarray(x))\n",
    ")\n",
    "\n",
    "generator"
   ]
  },
  {
   "cell_type": "markdown",
   "id": "d60ae7ca",
   "metadata": {},
   "source": [
    "Check saving. The saved artifact consists of a small python module, which includes only the bits of code which went into defining the generator. The saver tracks down all global variables, imports, functions, weights and data artifacts necessary for redefining and restoring the pipeline in its entirety."
   ]
  },
  {
   "cell_type": "code",
   "execution_count": 11,
   "id": "05714826",
   "metadata": {},
   "outputs": [
    {
     "name": "stdout",
     "output_type": "stream",
     "text": [
      "saving torch module to test.padl/3.pt\n"
     ]
    }
   ],
   "source": [
    "from padl import save\n",
    "save(generator, 'test.padl')"
   ]
  },
  {
   "cell_type": "markdown",
   "id": "d623f382",
   "metadata": {},
   "source": [
    "Batching works with three key functions: `train_apply`, `eval_apply`, and `infer_apply`. With `infer_apply`, \n",
    "a single data-point batch is created at the `batch` point of the transform, and then these batch dimensions are removed again by the `unbatch` statement.\n",
    "\n",
    "In `train_apply` and `eval_apply`, a data loader is constructed on the fly and the batches out of this data loader are passed throught the forward pass. The batch is then split into single rows after the `unbatch` statement, and the postprocessing is mapped over these rows. In `train_apply` gradients are activated; in the other modes there are no gradients."
   ]
  },
  {
   "cell_type": "code",
   "execution_count": 12,
   "id": "basic-birthday",
   "metadata": {},
   "outputs": [
    {
     "data": {
      "image/png": "[encoded data removed]",
      "text/plain": [
       "<PIL.Image.Image image mode=RGB size=64x64 at 0x7F5F5D4DE100>"
      ]
     },
     "execution_count": 12,
     "metadata": {},
     "output_type": "execute_result"
    }
   ],
   "source": [
    "generator.infer_apply(())"
   ]
  },
  {
   "cell_type": "code",
   "execution_count": 13,
   "id": "866eee5c",
   "metadata": {},
   "outputs": [
    {
     "data": {
      "text/plain": [
       "20"
      ]
     },
     "execution_count": 13,
     "metadata": {},
     "output_type": "execute_result"
    }
   ],
   "source": [
    "output = []\n",
    "for b in generator.eval_apply([() for _ in range(20)], batch_size=5, num_workers=0):\n",
    "    output.append(b)\n",
    "len(output)"
   ]
  },
  {
   "cell_type": "code",
   "execution_count": 14,
   "id": "5b1f9f69",
   "metadata": {},
   "outputs": [
    {
     "name": "stdout",
     "output_type": "stream",
     "text": [
      "torch.Size([5, 3, 64, 64])\n",
      "torch.Size([5, 3, 64, 64])\n",
      "torch.Size([5, 3, 64, 64])\n",
      "torch.Size([5, 3, 64, 64])\n"
     ]
    }
   ],
   "source": [
    "for b in generator[:3].train_apply([() for _ in range(20)], batch_size=5, flatten=False):\n",
    "    print(b.shape)"
   ]
  },
  {
   "cell_type": "code",
   "execution_count": 15,
   "id": "cb804717",
   "metadata": {},
   "outputs": [
    {
     "data": {
      "text/plain": [
       "\u001b[1mCompose\u001b[0m - \"generator\":\n",
       "\n",
       "   \u001b[32m   │\n",
       "      ▼ dummy\u001b[0m\n",
       "   \u001b[1m0: \u001b[0mgenerate_noise                  \n",
       "   \u001b[32m   │\n",
       "      ▼ args\u001b[0m\n",
       "   \u001b[1m1: \u001b[0mBatchify(dim=0)                 \n",
       "   \u001b[32m   │\n",
       "      ▼ input\u001b[0m\n",
       "   \u001b[1m2: \u001b[0mGenerator(ngpu=1)               \n",
       "   \u001b[32m   │\n",
       "      ▼ args\u001b[0m\n",
       "   \u001b[1m3: \u001b[0mUnbatchify(dim=0, cpu=True)     \n",
       "   \u001b[32m   │\n",
       "      ▼ x\u001b[0m\n",
       "   \u001b[1m4: \u001b[0mdenormalize                     \n",
       "   \u001b[32m   │\n",
       "      ▼ args\u001b[0m\n",
       "   \u001b[1m5: \u001b[0mtranspose(1, 2, 0)              \n",
       "   \u001b[32m   │\n",
       "      ▼ x\u001b[0m\n",
       "   \u001b[1m6: \u001b[0mlambda x: PIL.Image.fromarray(x)"
      ]
     },
     "execution_count": 15,
     "metadata": {},
     "output_type": "execute_result"
    }
   ],
   "source": [
    "generator"
   ]
  },
  {
   "cell_type": "markdown",
   "id": "8ddffe31",
   "metadata": {},
   "source": [
    "We can dissect the generating pipeline into preprocessing, forward pass, postprocessing. Let's have a look and \n",
    "validate that `generator.pd_preprocess >> generator.pd_forward >> generator.pd_postproces` is equivalent to `generator`."
   ]
  },
  {
   "cell_type": "code",
   "execution_count": 16,
   "id": "7fe46e83",
   "metadata": {},
   "outputs": [
    {
     "data": {
      "text/plain": [
       "\u001b[1mCompose\u001b[0m:\n",
       "\n",
       "   \u001b[32m   │\n",
       "      ▼ dummy\u001b[0m\n",
       "   \u001b[1m0: \u001b[0mgenerate_noise \n",
       "   \u001b[32m   │\n",
       "      ▼ args\u001b[0m\n",
       "   \u001b[1m1: \u001b[0mBatchify(dim=0)"
      ]
     },
     "execution_count": 16,
     "metadata": {},
     "output_type": "execute_result"
    }
   ],
   "source": [
    "generator.pd_preprocess"
   ]
  },
  {
   "cell_type": "code",
   "execution_count": 17,
   "id": "2f24aa84",
   "metadata": {},
   "outputs": [
    {
     "data": {
      "text/plain": [
       "\u001b[1mGenerator(ngpu=1)\u001b[0m - \"netG\":\n",
       "\n",
       "   Generator(\n",
       "     (main): Sequential(\n",
       "       (0): ConvTranspose2d(100, 512, kernel_size=(4, 4), stride=(1, 1), bias=False)\n",
       "       (1): BatchNorm2d(512, eps=1e-05, momentum=0.1, affine=True, track_running_stats=True)\n",
       "       (2): ReLU(inplace=True)\n",
       "       (3): ConvTranspose2d(512, 256, kernel_size=(4, 4), stride=(2, 2), padding=(1, 1), bias=False)\n",
       "       (4): BatchNorm2d(256, eps=1e-05, momentum=0.1, affine=True, track_running_stats=True)\n",
       "       (5): ReLU(inplace=True)\n",
       "       (6): ConvTranspose2d(256, 128, kernel_size=(4, 4), stride=(2, 2), padding=(1, 1), bias=False)\n",
       "       (7): BatchNorm2d(128, eps=1e-05, momentum=0.1, affine=True, track_running_stats=True)\n",
       "       (8): ReLU(inplace=True)\n",
       "       (9): ConvTranspose2d(128, 64, kernel_size=(4, 4), stride=(2, 2), padding=(1, 1), bias=False)\n",
       "       (10): BatchNorm2d(64, eps=1e-05, momentum=0.1, affine=True, track_running_stats=True)\n",
       "       (11): ReLU(inplace=True)\n",
       "       (12): ConvTranspose2d(64, 3, kernel_size=(4, 4), stride=(2, 2), padding=(1, 1), bias=False)\n",
       "       (13): Tanh()\n",
       "     )\n",
       "   )"
      ]
     },
     "execution_count": 17,
     "metadata": {},
     "output_type": "execute_result"
    }
   ],
   "source": [
    "generator.pd_forward"
   ]
  },
  {
   "cell_type": "code",
   "execution_count": 18,
   "id": "metropolitan-colombia",
   "metadata": {},
   "outputs": [
    {
     "data": {
      "text/plain": [
       "\u001b[1mCompose\u001b[0m:\n",
       "\n",
       "   \u001b[32m   │\n",
       "      ▼ args\u001b[0m\n",
       "   \u001b[1m0: \u001b[0mUnbatchify(dim=0, cpu=True)     \n",
       "   \u001b[32m   │\n",
       "      ▼ x\u001b[0m\n",
       "   \u001b[1m1: \u001b[0mdenormalize                     \n",
       "   \u001b[32m   │\n",
       "      ▼ args\u001b[0m\n",
       "   \u001b[1m2: \u001b[0mtranspose(1, 2, 0)              \n",
       "   \u001b[32m   │\n",
       "      ▼ x\u001b[0m\n",
       "   \u001b[1m3: \u001b[0mlambda x: PIL.Image.fromarray(x)"
      ]
     },
     "execution_count": 18,
     "metadata": {},
     "output_type": "execute_result"
    }
   ],
   "source": [
    "generator.pd_postprocess"
   ]
  },
  {
   "cell_type": "markdown",
   "id": "750b148d",
   "metadata": {},
   "source": [
    "These decompositions now also become handy to check the output of the real data pipeline. We can postprocess the tensors coming out of the image-loader with the postprocess part of the generator."
   ]
  },
  {
   "cell_type": "code",
   "execution_count": 19,
   "id": "pretty-surname",
   "metadata": {},
   "outputs": [
    {
     "data": {
      "image/png": "[encoded data removed]",
      "text/plain": [
       "<PIL.Image.Image image mode=RGB size=64x64 at 0x7F5F5E15D460>"
      ]
     },
     "execution_count": 19,
     "metadata": {},
     "output_type": "execute_result"
    }
   ],
   "source": [
    "(image_loader >> generator.pd_postprocess[1:])(None)"
   ]
  },
  {
   "cell_type": "markdown",
   "id": "cf24397e",
   "metadata": {},
   "source": [
    "There are ways to create branches in the workflow using the operators `/`, `+` and `~`. See here for details.\n",
    "In the following part, we use `+` to add a label to the discriminator pipeline:"
   ]
  },
  {
   "cell_type": "code",
   "execution_count": 20,
   "id": "1854d34b",
   "metadata": {},
   "outputs": [
    {
     "data": {
      "text/plain": [
       "\u001b[1mCompose\u001b[0m - \"errD_real\":\n",
       "\n",
       "   \u001b[32m   │\n",
       "      ▼ (args, kwargs)\u001b[0m\n",
       "   \u001b[1m0: \u001b[0mrandom_image                                        \n",
       "   \u001b[32m   │\n",
       "      ▼ (fp, mode, formats)\u001b[0m\n",
       "   \u001b[1m1: \u001b[0mopen                                                \n",
       "   \u001b[32m   │\n",
       "      ▼ img\u001b[0m\n",
       "   \u001b[1m2: \u001b[0mResize(size=64)                                     \n",
       "   \u001b[32m   │\n",
       "      ▼ img\u001b[0m\n",
       "   \u001b[1m3: \u001b[0mCenterCrop(size=64)                                 \n",
       "   \u001b[32m   │\n",
       "      ▼ pic\u001b[0m\n",
       "   \u001b[1m4: \u001b[0mToTensor()                                          \n",
       "   \u001b[32m   │\n",
       "      ▼ tensor\u001b[0m\n",
       "   \u001b[1m5: \u001b[0mNormalize(mean=(0.5, 0.5, 0.5), std=(0.5, 0.5, 0.5))\n",
       "   \u001b[32m   │\n",
       "      ▼ args\u001b[0m\n",
       "   \u001b[1m6: \u001b[0mBatchify(dim=0)                                     \n",
       "   \u001b[32m   │\n",
       "      ▼ input\u001b[0m\n",
       "   \u001b[1m7: \u001b[0mDiscriminator(ngpu=1)                               \n",
       "   \u001b[32m   └──────────────────────────────────────────────────────┐\n",
       "      │                                                      │\n",
       "      ▼ args                                                 ▼ x\u001b[0m\n",
       "   \u001b[1m8: \u001b[0mIdentity()                                           \u001b[32m+\u001b[0m real_label\n",
       "   \u001b[32m   │\n",
       "      ▼ (input, target)\u001b[0m\n",
       "   \u001b[1m9: \u001b[0mBCELoss(torch.nn.BCELoss())                         "
      ]
     },
     "execution_count": 20,
     "metadata": {},
     "output_type": "execute_result"
    }
   ],
   "source": [
    "from padl import identity\n",
    "\n",
    "@transform\n",
    "def real_label(x):\n",
    "    return torch.ones_like(x)\n",
    "\n",
    "\n",
    "criterion = transform(torch.nn.BCELoss())\n",
    "\n",
    "\n",
    "errD_real = image_loader >> batch >> netD >> (identity + real_label) >> criterion\n",
    "errD_real"
   ]
  },
  {
   "cell_type": "code",
   "execution_count": 22,
   "id": "disciplinary-works",
   "metadata": {},
   "outputs": [],
   "source": [
    "@transform\n",
    "def fake_label(x):\n",
    "    return torch.zeros_like(x)\n",
    "\n",
    "\n",
    "make_fake_tensor = generator.pd_preprocess >> generator.pd_forward\n",
    "\n",
    "\n",
    "errD_fake = (\n",
    "    same.detach()\n",
    "    >> netD\n",
    "    >> identity + fake_label\n",
    "    >> criterion\n",
    ")"
   ]
  },
  {
   "cell_type": "markdown",
   "id": "bd8c24e5",
   "metadata": {},
   "source": [
    "A test:"
   ]
  },
  {
   "cell_type": "code",
   "execution_count": 23,
   "id": "missing-scanner",
   "metadata": {},
   "outputs": [
    {
     "data": {
      "text/plain": [
       "tensor(0.6678)"
      ]
     },
     "execution_count": 23,
     "metadata": {},
     "output_type": "execute_result"
    }
   ],
   "source": [
    "errD_fake.infer_apply(torch.randn(1, 3, 64, 64))"
   ]
  },
  {
   "cell_type": "markdown",
   "id": "31367ece",
   "metadata": {},
   "source": [
    "The generator pipeline:"
   ]
  },
  {
   "cell_type": "code",
   "execution_count": 24,
   "id": "daily-chinese",
   "metadata": {},
   "outputs": [
    {
     "data": {
      "text/plain": [
       "\u001b[1mCompose\u001b[0m - \"errG\":\n",
       "\n",
       "   \u001b[32m   │\n",
       "      ▼ input\u001b[0m\n",
       "   \u001b[1m0: \u001b[0mDiscriminator(ngpu=1)      \n",
       "   \u001b[32m   └─────────────────────────────┐\n",
       "      │                             │\n",
       "      ▼ args                        ▼ x\u001b[0m\n",
       "   \u001b[1m1: \u001b[0mIdentity()                  \u001b[32m+\u001b[0m real_label\n",
       "   \u001b[32m   │\n",
       "      ▼ (input, target)\u001b[0m\n",
       "   \u001b[1m2: \u001b[0mBCELoss(torch.nn.BCELoss())"
      ]
     },
     "execution_count": 24,
     "metadata": {},
     "output_type": "execute_result"
    }
   ],
   "source": [
    "errG = (\n",
    "    netD\n",
    "    >> identity + real_label \n",
    "    >> criterion\n",
    ")\n",
    "errG"
   ]
  },
  {
   "cell_type": "markdown",
   "id": "9c8d2c47",
   "metadata": {},
   "source": [
    "We can now create the optimizers and the iterators so that we can do some learning steps. Beware that\n",
    "PyTorch requires specifying how the seed is set in each worker using `init_worker_fn` -- otherwise it's\n",
    "possible to identical lines in the batches."
   ]
  },
  {
   "cell_type": "code",
   "execution_count": 25,
   "id": "0dbb09ce",
   "metadata": {},
   "outputs": [],
   "source": [
    "import time\n",
    "\n",
    "def random_seed_init(i):\n",
    "    torch.manual_seed(int(i))\n",
    "    random.seed(int(i))\n",
    "    numpy.random.seed(int(i))\n",
    "\n",
    "optimizerD = torch.optim.Adam(netD.parameters(), lr=lr, betas=(beta1, 0.999))\n",
    "optimizerG = torch.optim.Adam(netG.parameters(), lr=lr, betas=(beta1, 0.999))\n",
    "\n",
    "make_fake_tensor.pd_to('cuda')\n",
    "errD_real.pd_to('cuda')\n",
    "generator.pd_to('cuda')\n",
    "errD_fake.pd_to('cuda')\n",
    "errG.pd_to('cuda')\n",
    "\n",
    "fake_generator = iter(make_fake_tensor.train_apply(range(1000000), batch_size=batch_size, num_workers=10,\n",
    "                                                   worker_init_fn=random_seed_init))\n",
    "errD_real_generator = iter(errD_real.train_apply(range(1000000), batch_size=batch_size, num_workers=10,\n",
    "                                                 worker_init_fn=random_seed_init))"
   ]
  },
  {
   "cell_type": "markdown",
   "id": "748f3625",
   "metadata": {},
   "source": [
    "The training loop based on these pipelines is now super simple and (hopefully) sheds light\n",
    "on the important structure of how the DC-gan algorithm works."
   ]
  },
  {
   "cell_type": "code",
   "execution_count": 26,
   "id": "military-reviewer",
   "metadata": {
    "scrolled": false
   },
   "outputs": [
    {
     "data": {
      "image/png": "[encoded data removed]",
      "text/plain": [
       "<PIL.Image.Image image mode=RGB size=64x64 at 0x7F5F5E0BD070>"
      ]
     },
     "metadata": {},
     "output_type": "display_data"
    },
    {
     "data": {
      "image/png": "[encoded data removed]",
      "text/plain": [
       "<PIL.Image.Image image mode=RGB size=64x64 at 0x7F5F5E0BD250>"
      ]
     },
     "metadata": {},
     "output_type": "display_data"
    },
    {
     "data": {
      "image/png": "[encoded data removed]",
      "text/plain": [
       "<PIL.Image.Image image mode=RGB size=64x64 at 0x7F5F5E0BD070>"
      ]
     },
     "metadata": {},
     "output_type": "display_data"
    },
    {
     "data": {
      "image/png": "[encoded data removed]",
      "text/plain": [
       "<PIL.Image.Image image mode=RGB size=64x64 at 0x7F5F5E0BD250>"
      ]
     },
     "metadata": {},
     "output_type": "display_data"
    },
    {
     "data": {
      "image/png": "[encoded data removed]",
      "text/plain": [
       "<PIL.Image.Image image mode=RGB size=64x64 at 0x7F5F5E0BD070>"
      ]
     },
     "metadata": {},
     "output_type": "display_data"
    },
    {
     "name": "stdout",
     "output_type": "stream",
     "text": [
      "Iteration: 4700; ErrD/real: 0.142; ErrD/fake: 0.318; ErrG: 3.153;\n"
     ]
    },
    {
     "ename": "KeyboardInterrupt",
     "evalue": "",
     "output_type": "error",
     "traceback": [
      "\u001b[0;31m---------------------------------------------------------------------------\u001b[0m",
      "\u001b[0;31mKeyboardInterrupt\u001b[0m                         Traceback (most recent call last)",
      "Input \u001b[0;32mIn [26]\u001b[0m, in \u001b[0;36m<module>\u001b[0;34m\u001b[0m\n\u001b[1;32m      4\u001b[0m it \u001b[38;5;241m=\u001b[39m \u001b[38;5;241m0\u001b[39m\n\u001b[1;32m      5\u001b[0m \u001b[38;5;28;01mwhile\u001b[39;00m \u001b[38;5;28;01mTrue\u001b[39;00m:\n\u001b[0;32m----> 7\u001b[0m     fake_tensor \u001b[38;5;241m=\u001b[39m \u001b[38;5;28;43mnext\u001b[39;49m\u001b[43m(\u001b[49m\u001b[43mfake_generator\u001b[49m\u001b[43m)\u001b[49m\n\u001b[1;32m      9\u001b[0m     netD\u001b[38;5;241m.\u001b[39mzero_grad()\n\u001b[1;32m     10\u001b[0m     ed_r \u001b[38;5;241m=\u001b[39m \u001b[38;5;28mnext\u001b[39m(errD_real_generator)\n",
      "File \u001b[0;32m~/padl/padl/transforms.py:128\u001b[0m, in \u001b[0;36m_GeneratorWithLength.__iter__\u001b[0;34m(self)\u001b[0m\n\u001b[1;32m    127\u001b[0m \u001b[38;5;28;01mdef\u001b[39;00m \u001b[38;5;21m__iter__\u001b[39m(\u001b[38;5;28mself\u001b[39m):\n\u001b[0;32m--> 128\u001b[0m     \u001b[38;5;28;01myield from\u001b[39;00m \u001b[38;5;28mself\u001b[39m\u001b[38;5;241m.\u001b[39mgenerator()\n",
      "File \u001b[0;32m~/padl/padl/transforms.py:817\u001b[0m, in \u001b[0;36mTransform._pd_itercall.<locals>._gen\u001b[0;34m()\u001b[0m\n\u001b[1;32m    815\u001b[0m \u001b[38;5;28;01mdef\u001b[39;00m \u001b[38;5;21m_gen\u001b[39m():\n\u001b[1;32m    816\u001b[0m     \u001b[38;5;28;01mfor\u001b[39;00m ix, batch \u001b[38;5;129;01min\u001b[39;00m loader:\n\u001b[0;32m--> 817\u001b[0m         batch \u001b[38;5;241m=\u001b[39m \u001b[43m_move_to_device\u001b[49m\u001b[43m(\u001b[49m\u001b[43mbatch\u001b[49m\u001b[43m,\u001b[49m\u001b[43m \u001b[49m\u001b[38;5;28;43mself\u001b[39;49m\u001b[38;5;241;43m.\u001b[39;49m\u001b[43mpd_device\u001b[49m\u001b[43m)\u001b[49m\n\u001b[1;32m    818\u001b[0m         output \u001b[38;5;241m=\u001b[39m batch\n\u001b[1;32m    820\u001b[0m         \u001b[38;5;28;01mif\u001b[39;00m use_forward:\n",
      "File \u001b[0;32m~/padl/padl/transforms.py:116\u001b[0m, in \u001b[0;36m_move_to_device\u001b[0;34m(args, device)\u001b[0m\n\u001b[1;32m    114\u001b[0m     \u001b[38;5;28;01mreturn\u001b[39;00m [_move_to_device(x, device) \u001b[38;5;28;01mfor\u001b[39;00m x \u001b[38;5;129;01min\u001b[39;00m args]\n\u001b[1;32m    115\u001b[0m \u001b[38;5;28;01mif\u001b[39;00m \u001b[38;5;28misinstance\u001b[39m(args, torch\u001b[38;5;241m.\u001b[39mTensor):\n\u001b[0;32m--> 116\u001b[0m     \u001b[38;5;28;01mreturn\u001b[39;00m \u001b[43margs\u001b[49m\u001b[38;5;241;43m.\u001b[39;49m\u001b[43mto\u001b[49m\u001b[43m(\u001b[49m\u001b[43mdevice\u001b[49m\u001b[43m)\u001b[49m\n\u001b[1;32m    117\u001b[0m \u001b[38;5;28;01mreturn\u001b[39;00m args\n",
      "\u001b[0;31mKeyboardInterrupt\u001b[0m: "
     ]
    }
   ],
   "source": [
    "from IPython.display import display, clear_output\n",
    "from IPython.display import clear_output\n",
    "\n",
    "it = 0\n",
    "while True:\n",
    "\n",
    "    fake_tensor = next(fake_generator)\n",
    "\n",
    "    netD.zero_grad()\n",
    "    ed_r = next(errD_real_generator)\n",
    "    ed_r.backward()\n",
    "\n",
    "    ed_f = errD_fake(fake_tensor)\n",
    "    ed_f.backward()\n",
    "    \n",
    "    optimizerD.step()\n",
    "    \n",
    "    netG.zero_grad()\n",
    "    eg = errG(fake_tensor)\n",
    "    eg.backward()\n",
    "\n",
    "    optimizerG.step()\n",
    "    \n",
    "    if it % 100 == 0:\n",
    "        clear_output(wait=True)\n",
    "        for j in range(5):\n",
    "            display(generator.infer_apply())\n",
    "        print(f'Iteration: {it}; ErrD/real: {ed_r:.3f}; ErrD/fake: {ed_f:.3f}; ErrG: {eg:.3f};')\n",
    "    \n",
    "    it += 1"
   ]
  },
  {
   "cell_type": "markdown",
   "id": "3b7031ad",
   "metadata": {},
   "source": [
    "Now let's save the trained model!"
   ]
  },
  {
   "cell_type": "code",
   "execution_count": 27,
   "id": "e16cd3bb",
   "metadata": {},
   "outputs": [
    {
     "name": "stdout",
     "output_type": "stream",
     "text": [
      "saving torch module to finished.padl/3.pt\n"
     ]
    }
   ],
   "source": [
    "save(generator, 'finished.padl')"
   ]
  },
  {
   "cell_type": "markdown",
   "id": "db38e945",
   "metadata": {},
   "source": [
    "A really useful feature, and making the finished pipeline super portable, is the ability to reload the full saved pipeline, without any importing or extra definitions. The following cell works, even after restarting the kernel/ environment."
   ]
  },
  {
   "cell_type": "code",
   "execution_count": 28,
   "id": "75fa950d",
   "metadata": {},
   "outputs": [
    {
     "name": "stdout",
     "output_type": "stream",
     "text": [
      "loading torch module from finished.padl/3.pt\n"
     ]
    }
   ],
   "source": [
    "from padl import load\n",
    "\n",
    "reloader = load('finished.padl')"
   ]
  },
  {
   "cell_type": "markdown",
   "id": "b26cd52b",
   "metadata": {},
   "source": [
    "We can now try a few sample generations from the trained pipeline, to check we get what we expect."
   ]
  },
  {
   "cell_type": "code",
   "execution_count": 40,
   "id": "5e1eb3fe",
   "metadata": {},
   "outputs": [
    {
     "data": {
      "image/png": "[encoded data removed]",
      "text/plain": [
       "<PIL.Image.Image image mode=RGB size=64x64 at 0x7F5F5E15D8B0>"
      ]
     },
     "execution_count": 40,
     "metadata": {},
     "output_type": "execute_result"
    }
   ],
   "source": [
    "reloader.infer_apply()"
   ]
  }
 ],
 "metadata": {
  "kernelspec": {
   "display_name": "Python 3 (ipykernel)",
   "language": "python",
   "name": "python3"
  },
  "language_info": {
   "codemirror_mode": {
    "name": "ipython",
    "version": 3
   },
   "file_extension": ".py",
   "mimetype": "text/x-python",
   "name": "python",
   "nbconvert_exporter": "python",
   "pygments_lexer": "ipython3",
   "version": "3.9.5"
  }
 },
 "nbformat": 4,
 "nbformat_minor": 5
}
