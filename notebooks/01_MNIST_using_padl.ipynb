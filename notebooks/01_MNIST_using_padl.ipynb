{
 "cells": [
  {
   "cell_type": "markdown",
   "id": "49b4084e",
   "metadata": {},
   "source": [
    "# Install `PADL`\n"
   ]
  },
  {
   "cell_type": "code",
   "execution_count": 1,
   "id": "64f0a01e",
   "metadata": {},
   "outputs": [
    {
     "name": "stdout",
     "output_type": "stream",
     "text": [
      "Collecting git+https://github.com/lf1-io/padl.git\n",
      "  Cloning https://github.com/lf1-io/padl.git to /private/var/folders/_j/9htwwr6x7hsdj_mb_1ws54cc0000gn/T/pip-req-build-3r23ewf0\n",
      "  Running command git clone --filter=blob:none --quiet https://github.com/lf1-io/padl.git /private/var/folders/_j/9htwwr6x7hsdj_mb_1ws54cc0000gn/T/pip-req-build-3r23ewf0\n",
      "  Resolved https://github.com/lf1-io/padl.git to commit ef3f3a5d1c28ea1956528c26d3dbeb18d9149bf2\n",
      "  Preparing metadata (setup.py) ... \u001b[?25ldone\n",
      "\u001b[?25hRequirement already satisfied: torch in /Users/jasonkhadka/Aleph-One-GmbH/padl/.venv/lib/python3.8/site-packages (from padl==0.2.1) (1.10.2)\n",
      "Requirement already satisfied: numpy in /Users/jasonkhadka/Aleph-One-GmbH/padl/.venv/lib/python3.8/site-packages (from padl==0.2.1) (1.22.2)\n",
      "Requirement already satisfied: astunparse in /Users/jasonkhadka/Aleph-One-GmbH/padl/.venv/lib/python3.8/site-packages (from padl==0.2.1) (1.6.3)\n",
      "Requirement already satisfied: six<2.0,>=1.6.1 in /Users/jasonkhadka/Aleph-One-GmbH/padl/.venv/lib/python3.8/site-packages (from astunparse->padl==0.2.1) (1.16.0)\n",
      "Requirement already satisfied: wheel<1.0,>=0.23.0 in /Users/jasonkhadka/Aleph-One-GmbH/padl/.venv/lib/python3.8/site-packages (from astunparse->padl==0.2.1) (0.37.1)\n",
      "Requirement already satisfied: typing-extensions in /Users/jasonkhadka/Aleph-One-GmbH/padl/.venv/lib/python3.8/site-packages (from torch->padl==0.2.1) (4.0.1)\n"
     ]
    }
   ],
   "source": [
    "!python -m pip install git+https://github.com/lf1-io/padl.git"
   ]
  },
  {
   "cell_type": "code",
   "execution_count": 2,
   "id": "6b96b588",
   "metadata": {},
   "outputs": [],
   "source": [
    "# These might be useful if there are errors regarding ipywidgets while downloading torchvision.datasets\n",
    "# !pip install ipywidgets\n",
    "# !jupyter nbextension enable --py widgetsnbextension"
   ]
  },
  {
   "cell_type": "markdown",
   "id": "0d843846",
   "metadata": {},
   "source": [
    "----"
   ]
  },
  {
   "cell_type": "markdown",
   "id": "a1fcbb10",
   "metadata": {},
   "source": [
    "## Imports\n",
    "\n",
    "Importing `padl` and most importantly `transform` decorator used to change any `callable` to `padl.Transform`."
   ]
  },
  {
   "cell_type": "code",
   "execution_count": 3,
   "id": "bd560eb8",
   "metadata": {},
   "outputs": [],
   "source": [
    "import numpy as np\n",
    "import matplotlib.pyplot as plt\n",
    "\n",
    "import torch\n",
    "import torchvision\n",
    "from torchvision import models\n",
    "\n",
    "import padl\n",
    "from padl import transform"
   ]
  },
  {
   "cell_type": "markdown",
   "id": "a2e86d14",
   "metadata": {},
   "source": [
    "## Dataset:\n",
    "MNIST dataset available through torchvision is used in this notebook. The dataset can be separately downloaded from MNIST website or can be loaded as given below. \n",
    "\n",
    "More details on torchvision's MNIST dataset can be found here: https://pytorch.org/vision/stable/datasets.html#mnist"
   ]
  },
  {
   "cell_type": "code",
   "execution_count": 4,
   "id": "9be9bcaf",
   "metadata": {},
   "outputs": [
    {
     "name": "stdout",
     "output_type": "stream",
     "text": [
      "Downloading http://yann.lecun.com/exdb/mnist/train-images-idx3-ubyte.gz\n",
      "Downloading http://yann.lecun.com/exdb/mnist/train-images-idx3-ubyte.gz to data/MNIST/raw/train-images-idx3-ubyte.gz\n"
     ]
    },
    {
     "name": "stderr",
     "output_type": "stream",
     "text": [
      "31.0%IOPub message rate exceeded.\n",
      "The notebook server will temporarily stop sending output\n",
      "to the client in order to avoid crashing it.\n",
      "To change this limit, set the config variable\n",
      "`--NotebookApp.iopub_msg_rate_limit`.\n",
      "\n",
      "Current values:\n",
      "NotebookApp.iopub_msg_rate_limit=1000.0 (msgs/sec)\n",
      "NotebookApp.rate_limit_window=3.0 (secs)\n",
      "\n",
      "96.7%IOPub message rate exceeded.\n",
      "The notebook server will temporarily stop sending output\n",
      "to the client in order to avoid crashing it.\n",
      "To change this limit, set the config variable\n",
      "`--NotebookApp.iopub_msg_rate_limit`.\n",
      "\n",
      "Current values:\n",
      "NotebookApp.iopub_msg_rate_limit=1000.0 (msgs/sec)\n",
      "NotebookApp.rate_limit_window=3.0 (secs)\n",
      "\n"
     ]
    }
   ],
   "source": [
    "mnist_train_dataset = torchvision.datasets.MNIST('data', train=True, download=True)\n",
    "mnist_test_dataset = torchvision.datasets.MNIST('data', train=False, download=True)"
   ]
  },
  {
   "cell_type": "markdown",
   "id": "e2f5e057",
   "metadata": {},
   "source": [
    "<hr style=\"border:1px solid\"> </hr>\n",
    "\n",
    "\n",
    "### 1. Plot few images to check the data\n",
    "\n",
    "`plot_image` is a normal standard function that takes in an image tensor and uses `matplotlib.pyplot` to plot the image. With `@transform` decorator, we can easily convert it to `padl.transform`. This allows us to use `padl` functional api and build data pipeline easily and quickly. \n",
    "\n",
    "Quick recap to `padl` operators:\n",
    "- `>>`: Compose operator: $(f_1 >> f_2)(x) \\rightarrow f_2(f_1(x))$\n",
    "- `+`: Rollout operator: $(f_1 + f_2) (x) \\rightarrow (f_1(x), f_2(x))$\n",
    "- `/`: Parallel operator: $(f_1 / f_2)((x_1,x_2)) \\rightarrow (f_1(x_1), f_2(x_2))$\n",
    "- `-`: Name operator: Names a transform so that its output can be accesed by given name or the transform itself can be accessed by its name from the pipeline:  \n",
    "    - $((f_1 - \\text{'zulu'})+f_2)(x) \\rightarrow \\text{Namedtuple}(\\text{'zulu'}:f_1(x), \\text{'out_1'}:f_2(x))$\n",
    "    - $((f_1 - \\text{'zulu'})+f_2)[\\text{'zulu'}] = f_1$\n",
    "    \n",
    "Note that outputs of `Rollout` and `Parallel` are tuples.\n",
    "\n",
    "For more details on operators and building Pipelines, refer to the documentation: https://lf1-io.github.io/padl/usage/transform.html"
   ]
  },
  {
   "cell_type": "code",
   "execution_count": 5,
   "id": "6a60c4ea",
   "metadata": {},
   "outputs": [],
   "source": [
    "@transform\n",
    "def plot_image(img_tensor):\n",
    "    fig= plt.figure(figsize=(2,2))\n",
    "    ax = fig.add_subplot(111)\n",
    "    ax.imshow(img_tensor, cmap='gray')\n",
    "    plt.axis('off')\n",
    "    return fig"
   ]
  },
  {
   "cell_type": "markdown",
   "id": "75656124",
   "metadata": {},
   "source": [
    "### 1.1 Building a simple plotting pipeline using `padl` operators\n",
    "\n",
    "Description of inbuilt transforms used.\n",
    "\n",
    "- `padl.same` is a self reflexive transform that allows for a quick mutation of input. \n",
    "\n",
    "        Example: padl.same[0]([1,2,3]) = 1\n",
    "\n",
    "- `padl.Identity()` is a simple transform that does exactly as it sounds, passes the input on as it is. \n",
    "\n",
    "        Example: padl.Identity()([1,2,3]) = [1,2,3]\n",
    "\n",
    "\n",
    "\n",
    "Description of `transform` pipeline defined below.\n",
    "- `convert_plot`: Takes in a `PIL.Image` that is converted to numpy array, and then is plotted using `plot_image` transform defined above. \n",
    "- `plot_datapoint`: \n",
    "    - It is a `parrallel` that passes first part of input to convert_plot and passes second part of input as it is with `padl.Identity`\n",
    "    - transforms are also named by `-`, so the output is a named tuple, with elements named as the transform name.\n",
    "\n",
    "\n"
   ]
  },
  {
   "cell_type": "code",
   "execution_count": 6,
   "id": "012b6ad6",
   "metadata": {},
   "outputs": [],
   "source": [
    "@transform\n",
    "def img_to_array(img):\n",
    "    return np.asarray(img)\n",
    "\n",
    "convert_plot = (\n",
    "    img_to_array\n",
    "    >> plot_image\n",
    ")\n",
    "\n",
    "plot_datapoint = (convert_plot - 'image')/ (padl.Identity() - 'label')"
   ]
  },
  {
   "cell_type": "code",
   "execution_count": 7,
   "id": "594cc416",
   "metadata": {
    "scrolled": false
   },
   "outputs": [
    {
     "data": {
      "image/png": "[encoded data removed]",
      "text/plain": [
       "<Figure size 144x144 with 1 Axes>"
      ]
     },
     "metadata": {
      "needs_background": "light"
     },
     "output_type": "display_data"
    }
   ],
   "source": [
    "out = plot_datapoint(mnist_train_dataset[0])"
   ]
  },
  {
   "cell_type": "code",
   "execution_count": 8,
   "id": "9488170b",
   "metadata": {},
   "outputs": [
    {
     "data": {
      "text/plain": [
       "5"
      ]
     },
     "execution_count": 8,
     "metadata": {},
     "output_type": "execute_result"
    }
   ],
   "source": [
    "out.label"
   ]
  },
  {
   "cell_type": "code",
   "execution_count": 9,
   "id": "d76f0ff7",
   "metadata": {},
   "outputs": [
    {
     "name": "stdout",
     "output_type": "stream",
     "text": [
      "Label : 4\n"
     ]
    },
    {
     "data": {
      "image/png": "[encoded data removed]",
      "text/plain": [
       "<Figure size 144x144 with 1 Axes>"
      ]
     },
     "metadata": {
      "needs_background": "light"
     },
     "output_type": "display_data"
    },
    {
     "name": "stdout",
     "output_type": "stream",
     "text": [
      "------------------------------\n",
      "Label : 4\n"
     ]
    },
    {
     "data": {
      "image/png": "[encoded data removed]",
      "text/plain": [
       "<Figure size 144x144 with 1 Axes>"
      ]
     },
     "metadata": {
      "needs_background": "light"
     },
     "output_type": "display_data"
    },
    {
     "name": "stdout",
     "output_type": "stream",
     "text": [
      "------------------------------\n",
      "Label : 1\n"
     ]
    },
    {
     "data": {
      "image/png": "[encoded data removed]",
      "text/plain": [
       "<Figure size 144x144 with 1 Axes>"
      ]
     },
     "metadata": {
      "needs_background": "light"
     },
     "output_type": "display_data"
    },
    {
     "name": "stdout",
     "output_type": "stream",
     "text": [
      "------------------------------\n",
      "Label : 5\n"
     ]
    },
    {
     "data": {
      "image/png": "[encoded data removed]",
      "text/plain": [
       "<Figure size 144x144 with 1 Axes>"
      ]
     },
     "metadata": {
      "needs_background": "light"
     },
     "output_type": "display_data"
    },
    {
     "name": "stdout",
     "output_type": "stream",
     "text": [
      "------------------------------\n",
      "Label : 1\n"
     ]
    },
    {
     "data": {
      "image/png": "[encoded data removed]",
      "text/plain": [
       "<Figure size 144x144 with 1 Axes>"
      ]
     },
     "metadata": {
      "needs_background": "light"
     },
     "output_type": "display_data"
    },
    {
     "name": "stdout",
     "output_type": "stream",
     "text": [
      "------------------------------\n"
     ]
    }
   ],
   "source": [
    "# Plotting some of the train datapoints\n",
    "\n",
    "for _ in range(5):\n",
    "    output = plot_datapoint(mnist_train_dataset[np.random.randint(len(mnist_train_dataset))])\n",
    "    print(f'Label : {output.label}')\n",
    "    # showing image\n",
    "    plt.show()\n",
    "    print('-'*30)"
   ]
  },
  {
   "cell_type": "markdown",
   "id": "b06535ca",
   "metadata": {},
   "source": [
    "<hr style=\"border:1px solid\"> </hr>\n",
    "\n",
    "\n",
    "### 2. Model\n",
    "We will build a simple neural net to classify `MNIST` handwritings. In the cell below, a simple pytorch net is defined with just one added decorator `@transform`. This is enough to wrap the pytorch model into `padl.Transform` and use it with other transform to build a data pipeline."
   ]
  },
  {
   "cell_type": "markdown",
   "id": "fa6434c1",
   "metadata": {},
   "source": [
    "### 2.1 Simple net"
   ]
  },
  {
   "cell_type": "code",
   "execution_count": 11,
   "id": "63ad5c29",
   "metadata": {},
   "outputs": [],
   "source": [
    "\n",
    "import torch.nn.functional as F\n",
    "from torch.utils.data import DataLoader\n",
    "import torch.optim as optim\n",
    "from torch.optim import lr_scheduler\n",
    "\n",
    "        \n",
    "@transform\n",
    "class SimpleNet(torch.nn.Module):\n",
    "    def __init__(self):\n",
    "        super().__init__()\n",
    "\n",
    "        # Conv 1\n",
    "        # size : input: 28x28x1 -> output : 26 x 26 x 32\n",
    "        self.conv1 = torch.nn.Conv2d(1, 32, kernel_size=3)\n",
    "        self.batchnorm1 = torch.nn.BatchNorm2d(32)\n",
    "        \n",
    "        # Conv 2\n",
    "        # size : input: 26x26x32 -> output : 24 x 24 x 32\n",
    "        self.conv2 = torch.nn.Conv2d(32, 32, kernel_size=3)\n",
    "        self.batchnorm2 = torch.nn.BatchNorm2d(32)\n",
    "        \n",
    "        # Conv 3\n",
    "        # size : input: 24x24x32 -> output : 12 x 12 x 32\n",
    "        self.conv3 = torch.nn.Conv2d(32, 32, kernel_size=2, stride = 2)\n",
    "        self.batchnorm3 = torch.nn.BatchNorm2d(32)\n",
    "        \n",
    "        # Conv 4\n",
    "        # size : input : 12 x 12 x 32 -> output : 8 x 8 x 64\n",
    "        self.conv4 = torch.nn.Conv2d(32, 64, kernel_size=5)\n",
    "        self.batchnorm4 = torch.nn.BatchNorm2d(64)\n",
    "        \n",
    "        # Conv 5\n",
    "        # size : input: 8x8x64 -> output : 4 x 4 x 64 -> Linearize = 1024\n",
    "        self.conv5 = torch.nn.Conv2d(64, 64, kernel_size=2, stride = 2)\n",
    "        self.batchnorm5 = torch.nn.BatchNorm2d(64)\n",
    "        \n",
    "        # dropout layer \n",
    "        self.conv5_drop = torch.nn.Dropout2d()\n",
    "        \n",
    "        # FC 1 \n",
    "        self.fc1 = torch.nn.Linear(1024, 128)\n",
    "        \n",
    "        # FC 2\n",
    "        self.fc2 = torch.nn.Linear(128, 10)\n",
    "\n",
    "    def forward(self, x):\n",
    "        x = self.batchnorm1(F.relu(self.conv1(x)))\n",
    "        x = self.batchnorm2(F.relu(self.conv2(x)))\n",
    "        x = self.batchnorm3(F.relu(self.conv3(x)))\n",
    "        x = self.batchnorm4(F.relu(self.conv4(x)))\n",
    "        x = self.batchnorm5(F.relu(self.conv5(x)))\n",
    "        x = self.conv5_drop(x)\n",
    "        x = x.view(-1, 1024)\n",
    "        x = F.relu(self.fc1(x))\n",
    "        x = F.log_softmax(self.fc2(x), dim=1)\n",
    "        return x"
   ]
  },
  {
   "cell_type": "markdown",
   "id": "dba2265f",
   "metadata": {},
   "source": [
    "### 2.2 Preprocessing\n",
    "\n",
    "The `preprocess` pipeline below, again splits the datapoint to two different pipelines for `PIL.Image` and `int` label. First part of parralel pipeline, converts the image into torch tensor of type float, and second part passes the label as it is. The label later will be used for the loss function. "
   ]
  },
  {
   "cell_type": "code",
   "execution_count": 12,
   "id": "96ab1583",
   "metadata": {},
   "outputs": [],
   "source": [
    "@transform\n",
    "def convert_to_tensor(img):\n",
    "    arr = np.asarray(img)\n",
    "    return torch.tensor(arr).type(torch.FloatTensor)\n",
    "\n",
    "\n",
    "preprocess = (\n",
    "    convert_to_tensor / convert_to_tensor\n",
    "    >> padl.same.reshape(-1, 28, 28) / padl.Identity()\n",
    ")"
   ]
  },
  {
   "cell_type": "markdown",
   "id": "ec776202",
   "metadata": {},
   "source": [
    "### 2.3 Instantiating the network and loss function\n",
    "\n",
    "Initialising instances of `SimpleNet` and `loss` function. Loss function here is a wrapped `torch` negative log likelihood loss which is again wrapped easily with same `transform` call. "
   ]
  },
  {
   "cell_type": "code",
   "execution_count": 13,
   "id": "e9a699bc",
   "metadata": {},
   "outputs": [],
   "source": [
    "simplenet = SimpleNet()\n",
    "loss_func = transform(F.nll_loss)"
   ]
  },
  {
   "cell_type": "code",
   "execution_count": 14,
   "id": "6bce20bc",
   "metadata": {},
   "outputs": [
    {
     "data": {
      "text/plain": [
       "\u001b[1mSimpleNet()\u001b[0m - \"simplenet\":\n",
       "\n",
       "   SimpleNet(\n",
       "     (conv1): Conv2d(1, 32, kernel_size=(3, 3), stride=(1, 1))\n",
       "     (batchnorm1): BatchNorm2d(32, eps=1e-05, momentum=0.1, affine=True, track_running_stats=True)\n",
       "     (conv2): Conv2d(32, 32, kernel_size=(3, 3), stride=(1, 1))\n",
       "     (batchnorm2): BatchNorm2d(32, eps=1e-05, momentum=0.1, affine=True, track_running_stats=True)\n",
       "     (conv3): Conv2d(32, 32, kernel_size=(2, 2), stride=(2, 2))\n",
       "     (batchnorm3): BatchNorm2d(32, eps=1e-05, momentum=0.1, affine=True, track_running_stats=True)\n",
       "     (conv4): Conv2d(32, 64, kernel_size=(5, 5), stride=(1, 1))\n",
       "     (batchnorm4): BatchNorm2d(64, eps=1e-05, momentum=0.1, affine=True, track_running_stats=True)\n",
       "     (conv5): Conv2d(64, 64, kernel_size=(2, 2), stride=(2, 2))\n",
       "     (batchnorm5): BatchNorm2d(64, eps=1e-05, momentum=0.1, affine=True, track_running_stats=True)\n",
       "     (conv5_drop): Dropout2d(p=0.5, inplace=False)\n",
       "     (fc1): Linear(in_features=1024, out_features=128, bias=True)\n",
       "     (fc2): Linear(in_features=128, out_features=10, bias=True)\n",
       "   )"
      ]
     },
     "execution_count": 14,
     "metadata": {},
     "output_type": "execute_result"
    }
   ],
   "source": [
    "simplenet"
   ]
  },
  {
   "cell_type": "code",
   "execution_count": 15,
   "id": "616132d5",
   "metadata": {},
   "outputs": [
    {
     "data": {
      "text/plain": [
       "\u001b[1mnll_loss\u001b[0m - \"loss_func\":\n",
       "\n",
       "   def nll_loss(\n",
       "       input: Tensor,\n",
       "       target: Tensor,\n",
       "       weight: Optional[Tensor] = None,\n",
       "       size_average: Optional[bool] = None,\n",
       "       ignore_index: int = -100,\n",
       "       reduce: Optional[bool] = None,\n",
       "       reduction: str = \"mean\",\n",
       "   ) -> Tensor:\n",
       "       r\"\"\"The negative log likelihood loss.\n",
       "\n",
       "       See :class:`~torch.nn.NLLLoss` for details.\n",
       "\n",
       "       Args:\n",
       "           input: :math:`(N, C)` where `C = number of classes` or :math:`(N, C, H, W)`\n",
       "               in case of 2D Loss, or :math:`(N, C, d_1, d_2, ..., d_K)` where :math:`K \\geq 1`\n",
       "               in the case of K-dimensional loss. `input` is expected to be log-probabilities.\n",
       "           target: :math:`(N)` where each value is :math:`0 \\leq \\text{targets}[i] \\leq C-1`,\n",
       "               or :math:`(N, d_1, d_2, ..., d_K)` where :math:`K \\geq 1` for\n",
       "               K-dimensional loss.\n",
       "           weight (Tensor, optional): a manual rescaling weight given to each\n",
       "               class. If given, has to be a Tensor of size `C`\n",
       "           size_average (bool, optional): Deprecated (see :attr:`reduction`). By default,\n",
       "               the losses are averaged over each loss element in the batch. Note that for\n",
       "               some losses, there multiple elements per sample. If the field :attr:`size_average`\n",
       "               is set to ``False``, the losses are instead summed for each minibatch. Ignored\n",
       "               when reduce is ``False``. Default: ``True``\n",
       "           ignore_index (int, optional): Specifies a target value that is ignored\n",
       "               and does not contribute to the input gradient. When :attr:`size_average` is\n",
       "               ``True``, the loss is averaged over non-ignored targets. Default: -100"
      ]
     },
     "execution_count": 15,
     "metadata": {},
     "output_type": "execute_result"
    }
   ],
   "source": [
    "loss_func"
   ]
  },
  {
   "cell_type": "markdown",
   "id": "9e25508e",
   "metadata": {},
   "source": [
    "### 2.4  Building the training model"
   ]
  },
  {
   "cell_type": "markdown",
   "id": "5691e6e7",
   "metadata": {},
   "source": [
    "`train_model` is now composed (`>>`) with the transforms already defined.\n",
    "- preprocess: preprocessing transform defined above\n",
    "- Batchify: Batchify is a inbuilt `transform` that marks end of preprocess (dataloading) and that adds batch dimension to the inputs. Batchify also moves the input tensors to device specified for the model\n",
    "- simplenet: Instance of SimpleNet\n",
    "- padl.same: A self reflexive transform that allows for a quick mutation of input.\n",
    "\n",
    "`train_model` is then sent to the intended device. It is by default in `cpu`.\n"
   ]
  },
  {
   "cell_type": "code",
   "execution_count": 16,
   "id": "8134bd7f",
   "metadata": {},
   "outputs": [
    {
     "name": "stdout",
     "output_type": "stream",
     "text": [
      "Device to be used:  cpu\n"
     ]
    }
   ],
   "source": [
    "device = 'cuda' if torch.cuda.is_available() else 'cpu'\n",
    "print('Device to be used: ', device)"
   ]
  },
  {
   "cell_type": "code",
   "execution_count": 17,
   "id": "0c73d5ae",
   "metadata": {},
   "outputs": [
    {
     "data": {
      "text/plain": [
       "\u001b[1mCompose\u001b[0m - \"train_model\":\n",
       "\n",
       "   \u001b[32m   │└────────────────────┐\n",
       "      │                     │\n",
       "      ▼ img                 ▼ img\u001b[0m\n",
       "   \u001b[1m0: \u001b[0mconvert_to_tensor   \u001b[32m/\u001b[0m convert_to_tensor\n",
       "   \u001b[32m   │                     │\n",
       "      ▼ args                ▼ args\u001b[0m\n",
       "   \u001b[1m1: \u001b[0mreshape(-1, 28, 28) \u001b[32m/\u001b[0m Identity()       \n",
       "   \u001b[32m   │\n",
       "      ▼ args\u001b[0m\n",
       "   \u001b[1m2: \u001b[0mBatchify(dim=0)    \n",
       "   \u001b[32m   │└────────────────────┐\n",
       "      │                     │\n",
       "      ▼ x                   ▼ args\u001b[0m\n",
       "   \u001b[1m3: \u001b[0mSimpleNet()         \u001b[32m/\u001b[0m type(torch.int64)"
      ]
     },
     "execution_count": 17,
     "metadata": {},
     "output_type": "execute_result"
    }
   ],
   "source": [
    "train_model = (\n",
    "    preprocess\n",
    "    >> padl.Batchify()\n",
    "    >> simplenet / padl.same.type(torch.long)\n",
    ")\n",
    "\n",
    "train_model.pd_to(device)"
   ]
  },
  {
   "cell_type": "markdown",
   "id": "2d982878",
   "metadata": {},
   "source": [
    "<hr style=\"border:1px solid\"> </hr>\n",
    "\n",
    "\n",
    "### 3. Training and validating the `train_model`\n",
    "\n",
    "Training is not much different than the normal torch training steps, except dataloading and training is made even simplier by `train_apply`. It is one of the three inbuilt methods along with `infer_apply` and `eval_apply` that handles the mode context of model."
   ]
  },
  {
   "cell_type": "code",
   "execution_count": 18,
   "id": "5f95e62b",
   "metadata": {
    "scrolled": false
   },
   "outputs": [
    {
     "name": "stdout",
     "output_type": "stream",
     "text": [
      "Epoch:0; Step: 0; loss: 2.32843279838562\n",
      "Epoch:0; Step: 10; loss: 2.0219168663024902\n",
      "Epoch:0; Step: 20; loss: 1.6625076532363892\n",
      "Epoch:0; Step: 30; loss: 1.3506853580474854\n",
      "Epoch:0; Step: 40; loss: 1.0103685855865479\n",
      "Epoch:0; Step: 50; loss: 0.9072323441505432\n",
      "Epoch:0; Step: 60; loss: 0.6765532493591309\n",
      "Epoch:0; Step: 70; loss: 0.5504281520843506\n",
      "Epoch:0; Step: 80; loss: 0.5161393880844116\n",
      "Epoch:0; Step: 90; loss: 0.48721829056739807\n",
      "Epoch:0; Step: 100; loss: 0.4040915369987488\n",
      "Epoch:0; Step: 110; loss: 0.4484071135520935\n",
      "Epoch:0; Step: 120; loss: 0.4975182116031647\n",
      "Epoch:0; Step: 130; loss: 0.3997626006603241\n",
      "Epoch:0; Step: 140; loss: 0.36582285165786743\n",
      "Epoch:0; Step: 150; loss: 0.36289504170417786\n",
      "Epoch:0; Step: 160; loss: 0.3392089605331421\n",
      "Epoch:0; Step: 170; loss: 0.25499850511550903\n",
      "Epoch:0; Step: 180; loss: 0.3611798882484436\n",
      "Epoch:0; Step: 190; loss: 0.24412992596626282\n",
      "Epoch:0; Step: 200; loss: 0.29443666338920593\n",
      "Epoch:0; Step: 210; loss: 0.31384363770484924\n",
      "Epoch:0; Step: 220; loss: 0.262349933385849\n",
      "Epoch:0; Step: 230; loss: 0.11465992778539658\n",
      "Epoch:1; Step: 0; loss: 0.27609071135520935\n",
      "Epoch:1; Step: 10; loss: 0.268146812915802\n",
      "Epoch:1; Step: 20; loss: 0.3030300438404083\n",
      "Epoch:1; Step: 30; loss: 0.3005148470401764\n",
      "Epoch:1; Step: 40; loss: 0.2602699100971222\n",
      "Epoch:1; Step: 50; loss: 0.32787078619003296\n",
      "Epoch:1; Step: 60; loss: 0.2652759850025177\n",
      "Epoch:1; Step: 70; loss: 0.22171984612941742\n",
      "Epoch:1; Step: 80; loss: 0.25606244802474976\n",
      "Epoch:1; Step: 90; loss: 0.23839057981967926\n",
      "Epoch:1; Step: 100; loss: 0.24537107348442078\n",
      "Epoch:1; Step: 110; loss: 0.29235419631004333\n",
      "Epoch:1; Step: 120; loss: 0.3353230059146881\n",
      "Epoch:1; Step: 130; loss: 0.28084319829940796\n",
      "Epoch:1; Step: 140; loss: 0.25138482451438904\n",
      "Epoch:1; Step: 150; loss: 0.27523210644721985\n",
      "Epoch:1; Step: 160; loss: 0.2614591419696808\n",
      "Epoch:1; Step: 170; loss: 0.1818043738603592\n",
      "Epoch:1; Step: 180; loss: 0.32764333486557007\n",
      "Epoch:1; Step: 190; loss: 0.1667155772447586\n",
      "Epoch:1; Step: 200; loss: 0.2421381026506424\n",
      "Epoch:1; Step: 210; loss: 0.2603617310523987\n",
      "Epoch:1; Step: 220; loss: 0.25019964575767517\n",
      "Epoch:1; Step: 230; loss: 0.09175363183021545\n"
     ]
    }
   ],
   "source": [
    "learning_rate = 0.01\n",
    "momentum = 0.5\n",
    "log_interval = 10\n",
    "nepoch = 2\n",
    "num_workers = 0\n",
    "\n",
    "optimizer = optim.SGD(train_model.pd_parameters(), lr=learning_rate, momentum = momentum)\n",
    "exp_lr_scheduler = lr_scheduler.StepLR(optimizer, step_size=7, gamma=0.95)\n",
    "\n",
    "\n",
    "\n",
    "for epoch in range(nepoch):\n",
    "    step_counter = 0\n",
    "    for batch_output, batch_targets in train_model.train_apply(mnist_train_dataset, num_workers=num_workers, batch_size=256):\n",
    "\n",
    "        optimizer.zero_grad()\n",
    "\n",
    "        loss = F.nll_loss(batch_output, batch_targets)\n",
    "\n",
    "        loss.backward()\n",
    "\n",
    "        optimizer.step()\n",
    "        exp_lr_scheduler.step()\n",
    "\n",
    "        if step_counter % log_interval == 0:\n",
    "            print(f'Epoch:{epoch}; Step: {step_counter}; loss: {loss}')\n",
    "        step_counter += 1"
   ]
  },
  {
   "cell_type": "markdown",
   "id": "a93b68ed",
   "metadata": {},
   "source": [
    "### 3.1 Accuracy of the model\n",
    "\n",
    "We can quickly build a `validation_model` by adding a further step to `train_model` to get the number associated with the maximum confidence predicted by the model. \n",
    "\n",
    "\n",
    "Note: As we don't have a separate validation dataset with labels, we will have to use the same train data to `validate` the model in this example.\n",
    "\n",
    "\n",
    "First, lets look at the format of the prediction by `infer_apply`ing one of datapoint."
   ]
  },
  {
   "cell_type": "code",
   "execution_count": 19,
   "id": "35b39dae",
   "metadata": {},
   "outputs": [
    {
     "data": {
      "text/plain": [
       "\u001b[1mCompose\u001b[0m - \"train_model\":\n",
       "\n",
       "   \u001b[32m   │└────────────────────┐\n",
       "      │                     │\n",
       "      ▼ img                 ▼ img\u001b[0m\n",
       "   \u001b[1m0: \u001b[0mconvert_to_tensor   \u001b[32m/\u001b[0m convert_to_tensor\n",
       "   \u001b[32m   │                     │\n",
       "      ▼ args                ▼ args\u001b[0m\n",
       "   \u001b[1m1: \u001b[0mreshape(-1, 28, 28) \u001b[32m/\u001b[0m Identity()       \n",
       "   \u001b[32m   │\n",
       "      ▼ args\u001b[0m\n",
       "   \u001b[1m2: \u001b[0mBatchify(dim=0)    \n",
       "   \u001b[32m   │└────────────────────┐\n",
       "      │                     │\n",
       "      ▼ x                   ▼ args\u001b[0m\n",
       "   \u001b[1m3: \u001b[0mSimpleNet()         \u001b[32m/\u001b[0m type(torch.int64)"
      ]
     },
     "execution_count": 19,
     "metadata": {},
     "output_type": "execute_result"
    }
   ],
   "source": [
    "train_model"
   ]
  },
  {
   "cell_type": "code",
   "execution_count": 20,
   "id": "556e1b76",
   "metadata": {},
   "outputs": [
    {
     "name": "stderr",
     "output_type": "stream",
     "text": [
      "[W NNPACK.cpp:79] Could not initialize NNPACK! Reason: Unsupported hardware.\n"
     ]
    },
    {
     "data": {
      "text/plain": [
       "namedtuple(simplenet=tensor([[-5.2692, -6.7916, -5.2562, -0.9152, -8.7154, -0.5542, -7.0435, -6.5707,\n",
       "         -4.5927, -6.9072]]), out_1=tensor([5]))"
      ]
     },
     "execution_count": 20,
     "metadata": {},
     "output_type": "execute_result"
    }
   ],
   "source": [
    "train_model.infer_apply(mnist_train_dataset[0])"
   ]
  },
  {
   "cell_type": "markdown",
   "id": "d8105d54",
   "metadata": {},
   "source": [
    "`train_model` predicts a tensor of confidence associated for the 10 numbers, and the index associated with the maximum of these confidence is the prediction by the model. Thus, we can add another transform to the same `train_model` to get that index associated with maximum of the confidence. \n",
    "\n",
    "Note that the new `validation_model` is a new instance of Transform but it contains same objects as `train_model` with added two new `transform`s. All the transform objects that are already in `train_model` is in `device` as assigned above, but the main `validation_model` object itself will have by default `cpu` device assigned. Thus, to move it to (or assign it with) correct device, we have to again call `pd_to(device)`."
   ]
  },
  {
   "cell_type": "code",
   "execution_count": 21,
   "id": "27a6b4f5",
   "metadata": {},
   "outputs": [
    {
     "data": {
      "text/plain": [
       "\u001b[1mCompose\u001b[0m - \"validation_model\":\n",
       "\n",
       "   \u001b[32m   │└───────────────────────────┐\n",
       "      │                            │\n",
       "      ▼ img                        ▼ img\u001b[0m\n",
       "   \u001b[1m0: \u001b[0mconvert_to_tensor          \u001b[32m/\u001b[0m convert_to_tensor\n",
       "   \u001b[32m   │                            │\n",
       "      ▼ args                       ▼ args\u001b[0m\n",
       "   \u001b[1m1: \u001b[0mreshape(-1, 28, 28)        \u001b[32m/\u001b[0m Identity()       \n",
       "   \u001b[32m   │\n",
       "      ▼ args\u001b[0m\n",
       "   \u001b[1m2: \u001b[0mBatchify(dim=0)           \n",
       "   \u001b[32m   │└───────────────────────────┐\n",
       "      │                            │\n",
       "      ▼ x                          ▼ args\u001b[0m\n",
       "   \u001b[1m3: \u001b[0mSimpleNet()                \u001b[32m/\u001b[0m type(torch.int64)\n",
       "   \u001b[32m   │                            │\n",
       "      ▼ x                          ▼ args\u001b[0m\n",
       "   \u001b[1m4: \u001b[0mlambda x: x.max(1).indices \u001b[32m/\u001b[0m Identity()       "
      ]
     },
     "execution_count": 21,
     "metadata": {},
     "output_type": "execute_result"
    }
   ],
   "source": [
    "validation_model = (\n",
    "    train_model\n",
    "    >> padl.transform(lambda x: x.max(1).indices) / padl.Identity()\n",
    ")\n",
    "\n",
    "# We need to send the validation_model to device again\n",
    "validation_model.pd_to(device)"
   ]
  },
  {
   "cell_type": "code",
   "execution_count": 22,
   "id": "27736457",
   "metadata": {},
   "outputs": [
    {
     "name": "stdout",
     "output_type": "stream",
     "text": [
      "Accuracy of model: 0.9519\n"
     ]
    }
   ],
   "source": [
    "# Compute accuracy over the test dataset\n",
    "\n",
    "accuracy = 0\n",
    "for batch_output, batch_targets in validation_model.eval_apply(mnist_test_dataset, num_workers=0, batch_size=256):\n",
    "    accuracy += (batch_targets == batch_output).sum()\n",
    "\n",
    "accuracy = accuracy.item()/ len(mnist_test_dataset)\n",
    "print(f'Accuracy of model: {accuracy}')"
   ]
  },
  {
   "cell_type": "markdown",
   "id": "fe11f570",
   "metadata": {},
   "source": [
    "Not a bad accuracy of `~0.95` for a quick train model."
   ]
  },
  {
   "cell_type": "markdown",
   "id": "f57fe164",
   "metadata": {},
   "source": [
    "### 3.2 Infer few images from test data\n",
    "\n",
    "Although we do not have labels for images in test data, we can still infer and verify the predictions ourselves. For that, we can again use model object `simplenet` that we have trained by using `train_model` and now stack it with other `transform`s to build an infer model."
   ]
  },
  {
   "cell_type": "code",
   "execution_count": 23,
   "id": "278c177b",
   "metadata": {},
   "outputs": [
    {
     "data": {
      "text/plain": [
       "\u001b[1mCompose\u001b[0m - \"infer_model\":\n",
       "\n",
       "   \u001b[32m   │\n",
       "      ▼ args\u001b[0m\n",
       "   \u001b[1m0: \u001b[0m__getitem__(0)            \n",
       "   \u001b[32m   │\n",
       "      ▼ img\u001b[0m\n",
       "   \u001b[1m1: \u001b[0mconvert_to_tensor         \n",
       "   \u001b[32m   │\n",
       "      ▼ args\u001b[0m\n",
       "   \u001b[1m2: \u001b[0mBatchify(dim=0)           \n",
       "   \u001b[32m   │\n",
       "      ▼ args\u001b[0m\n",
       "   \u001b[1m3: \u001b[0munsqueeze(1)              \n",
       "   \u001b[32m   │\n",
       "      ▼ x\u001b[0m\n",
       "   \u001b[1m4: \u001b[0mSimpleNet()               \n",
       "   \u001b[32m   │\n",
       "      ▼ x\u001b[0m\n",
       "   \u001b[1m5: \u001b[0mlambda x: x.max(1).indices"
      ]
     },
     "execution_count": 23,
     "metadata": {},
     "output_type": "execute_result"
    }
   ],
   "source": [
    "infer_preprocess =(\n",
    "    padl.same[0]\n",
    "    >> convert_to_tensor\n",
    ")\n",
    "infer_model = (\n",
    "    infer_preprocess\n",
    "    >> padl.Batchify()\n",
    "    >> padl.same.unsqueeze(1) \n",
    "    >> simplenet\n",
    "    >> padl.transform(lambda x: x.max(1).indices)\n",
    ")\n",
    "\n",
    "infer_model.pd_to(device)"
   ]
  },
  {
   "cell_type": "code",
   "execution_count": 24,
   "id": "dca7d6ec",
   "metadata": {
    "scrolled": false
   },
   "outputs": [
    {
     "data": {
      "image/png": "[encoded data removed]",
      "text/plain": [
       "<Figure size 144x144 with 1 Axes>"
      ]
     },
     "metadata": {
      "needs_background": "light"
     },
     "output_type": "display_data"
    },
    {
     "name": "stdout",
     "output_type": "stream",
     "text": [
      "Prediction: 4\n",
      "------------------------------\n"
     ]
    },
    {
     "data": {
      "image/png": "[encoded data removed]",
      "text/plain": [
       "<Figure size 144x144 with 1 Axes>"
      ]
     },
     "metadata": {
      "needs_background": "light"
     },
     "output_type": "display_data"
    },
    {
     "name": "stdout",
     "output_type": "stream",
     "text": [
      "Prediction: 0\n",
      "------------------------------\n"
     ]
    },
    {
     "data": {
      "image/png": "[encoded data removed]",
      "text/plain": [
       "<Figure size 144x144 with 1 Axes>"
      ]
     },
     "metadata": {
      "needs_background": "light"
     },
     "output_type": "display_data"
    },
    {
     "name": "stdout",
     "output_type": "stream",
     "text": [
      "Prediction: 1\n",
      "------------------------------\n"
     ]
    },
    {
     "data": {
      "image/png": "[encoded data removed]",
      "text/plain": [
       "<Figure size 144x144 with 1 Axes>"
      ]
     },
     "metadata": {
      "needs_background": "light"
     },
     "output_type": "display_data"
    },
    {
     "name": "stdout",
     "output_type": "stream",
     "text": [
      "Prediction: 0\n",
      "------------------------------\n"
     ]
    },
    {
     "data": {
      "image/png": "[encoded data removed]",
      "text/plain": [
       "<Figure size 144x144 with 1 Axes>"
      ]
     },
     "metadata": {
      "needs_background": "light"
     },
     "output_type": "display_data"
    },
    {
     "name": "stdout",
     "output_type": "stream",
     "text": [
      "Prediction: 4\n",
      "------------------------------\n"
     ]
    }
   ],
   "source": [
    "for _ in range(5):\n",
    "    data_point = mnist_test_dataset[np.random.randint(len(mnist_test_dataset))]\n",
    "    output = plot_datapoint(data_point)\n",
    "    plt.show()\n",
    "    print(f'Prediction: {infer_model.infer_apply(data_point).item()}')\n",
    "    print('-'*30)"
   ]
  },
  {
   "cell_type": "markdown",
   "id": "ab222191",
   "metadata": {},
   "source": [
    "<hr style=\"border:1px solid\"> </hr>\n",
    "\n",
    "\n",
    "### 4. Using further image augmentation on training\n",
    "\n",
    "We can easily use some of the `torchvision.transforms` for image augmentation and add it to our preproccessing of image to help with training. Lets add a couple of augmentations to our training: `GaussianBlur` and `RandomRotation`\n",
    "We need to wrap the call to these `torchvision.transforms` with our `padl.transform` before instantiating them, and that is all. "
   ]
  },
  {
   "cell_type": "code",
   "execution_count": 25,
   "id": "543ba923",
   "metadata": {},
   "outputs": [],
   "source": [
    "import torchvision.transforms as T"
   ]
  },
  {
   "cell_type": "code",
   "execution_count": 26,
   "id": "f645938e",
   "metadata": {},
   "outputs": [],
   "source": [
    "gaussian_blur = transform(T.GaussianBlur)(kernel_size=(3,3), sigma=0.1)\n",
    "\n",
    "rotate_img = transform(T.RandomRotation)(degrees=(-15,15))"
   ]
  },
  {
   "cell_type": "markdown",
   "id": "248a0a2f",
   "metadata": {},
   "source": [
    "Now we can again use `padl`'s functional api to build an `image_augmentation` pipeline.\n",
    "\n",
    "Note: `torchvision.transforms` expect images with channels but our images are just in grayscale. So, we need to unsqueeze our image tensor here."
   ]
  },
  {
   "cell_type": "code",
   "execution_count": 27,
   "id": "5f39aa23",
   "metadata": {},
   "outputs": [],
   "source": [
    "image_augmentation = (\n",
    "    padl.same.unsqueeze(0)\n",
    "    >> rotate_img\n",
    "    >> gaussian_blur\n",
    "    >> padl.same[0]\n",
    ")"
   ]
  },
  {
   "cell_type": "markdown",
   "id": "92e0dc1b",
   "metadata": {},
   "source": [
    "####  Sample of image augmentation\n",
    "\n",
    "Lets try the augmentation on one of image. "
   ]
  },
  {
   "cell_type": "code",
   "execution_count": 28,
   "id": "209547d9",
   "metadata": {},
   "outputs": [
    {
     "name": "stdout",
     "output_type": "stream",
     "text": [
      "tensor shape: torch.Size([28, 28])\n"
     ]
    },
    {
     "data": {
      "image/png": "[encoded data removed]",
      "text/plain": [
       "<Figure size 144x144 with 1 Axes>"
      ]
     },
     "metadata": {
      "needs_background": "light"
     },
     "output_type": "display_data"
    }
   ],
   "source": [
    "datapoint = mnist_train_dataset[2]\n",
    "\n",
    "# plot datapoint \n",
    "plot_datapoint(datapoint)\n",
    "\n",
    "# convert datapoint's image to tensor\n",
    "img_tensor = convert_to_tensor(datapoint[0])\n",
    "\n",
    "# tensor shape\n",
    "print('tensor shape:', img_tensor.shape)"
   ]
  },
  {
   "cell_type": "markdown",
   "id": "4ce4d5f5",
   "metadata": {},
   "source": [
    "Augmented images: Running image augmentation on same image tensor"
   ]
  },
  {
   "cell_type": "code",
   "execution_count": 29,
   "id": "05fa5c93",
   "metadata": {},
   "outputs": [
    {
     "data": {
      "image/png": "[encoded data removed]",
      "text/plain": [
       "<Figure size 144x144 with 1 Axes>"
      ]
     },
     "metadata": {
      "needs_background": "light"
     },
     "output_type": "display_data"
    },
    {
     "data": {
      "image/png": "[encoded data removed]",
      "text/plain": [
       "<Figure size 144x144 with 1 Axes>"
      ]
     },
     "metadata": {
      "needs_background": "light"
     },
     "output_type": "display_data"
    },
    {
     "data": {
      "image/png": "[encoded data removed]",
      "text/plain": [
       "<Figure size 144x144 with 1 Axes>"
      ]
     },
     "metadata": {
      "needs_background": "light"
     },
     "output_type": "display_data"
    },
    {
     "data": {
      "image/png": "[encoded data removed]",
      "text/plain": [
       "<Figure size 144x144 with 1 Axes>"
      ]
     },
     "metadata": {
      "needs_background": "light"
     },
     "output_type": "display_data"
    },
    {
     "data": {
      "image/png": "[encoded data removed]",
      "text/plain": [
       "<Figure size 144x144 with 1 Axes>"
      ]
     },
     "metadata": {
      "needs_background": "light"
     },
     "output_type": "display_data"
    }
   ],
   "source": [
    "for _ in range(5):\n",
    "    out_aug = image_augmentation(img_tensor)\n",
    "    plot_image(out_aug)"
   ]
  },
  {
   "cell_type": "markdown",
   "id": "cda6005c",
   "metadata": {},
   "source": [
    "### 4.2 We can add the `image_augmentation` pipeline easily to the `preprocess` and rebuild `train_model`"
   ]
  },
  {
   "cell_type": "code",
   "execution_count": 30,
   "id": "b49e0712",
   "metadata": {},
   "outputs": [
    {
     "data": {
      "text/plain": [
       "\u001b[1mCompose\u001b[0m - \"train_model\":\n",
       "\n",
       "   \u001b[32m   │└─────────────────────────────┐\n",
       "      │                              │\n",
       "      ▼ img                          ▼ img\u001b[0m\n",
       "   \u001b[1m0: \u001b[0mconvert_to_tensor            \u001b[32m/\u001b[0m convert_to_tensor\n",
       "   \u001b[32m   │                              │\n",
       "      ▼ args                         ▼ args\u001b[0m\n",
       "   \u001b[1m1: \u001b[0mreshape(-1, 28, 28)          \u001b[32m/\u001b[0m Identity()       \n",
       "   \u001b[32m   │                              │\n",
       "      ▼ args                         ▼ args\u001b[0m\n",
       "   \u001b[1m2: \u001b[0m\u001b[32m[\u001b[0mimage_augmentation: ..\u001b[32m>>\u001b[0m..\u001b[32m]\u001b[0m \u001b[32m/\u001b[0m Identity()       \n",
       "   \u001b[32m   │\n",
       "      ▼ args\u001b[0m\n",
       "   \u001b[1m3: \u001b[0mBatchify(dim=0)             \n",
       "   \u001b[32m   │└─────────────────────────────┐\n",
       "      │                              │\n",
       "      ▼ x                            ▼ args\u001b[0m\n",
       "   \u001b[1m4: \u001b[0mSimpleNet()                  \u001b[32m/\u001b[0m type(torch.int64)"
      ]
     },
     "execution_count": 30,
     "metadata": {},
     "output_type": "execute_result"
    }
   ],
   "source": [
    "preprocess_with_augmentation = (\n",
    "    convert_to_tensor / convert_to_tensor\n",
    "    >> padl.same.reshape(-1, 28, 28) / padl.Identity()\n",
    "    >> image_augmentation / padl.Identity()\n",
    ")\n",
    "\n",
    "train_model = (\n",
    "    preprocess_with_augmentation\n",
    "    >> padl.Batchify()\n",
    "    >> simplenet / padl.same.type(torch.long)\n",
    ")\n",
    "\n",
    "\n",
    "train_model.pd_to(device)"
   ]
  },
  {
   "cell_type": "markdown",
   "id": "fd544eca",
   "metadata": {},
   "source": [
    "### 4.3 Retraining the model with `image_augmentation`"
   ]
  },
  {
   "cell_type": "code",
   "execution_count": 31,
   "id": "cffaae3c",
   "metadata": {
    "scrolled": true
   },
   "outputs": [
    {
     "name": "stdout",
     "output_type": "stream",
     "text": [
      "Epoch:0; Step: 0; loss: 0.297992080450058\n",
      "Epoch:0; Step: 10; loss: 0.26691189408302307\n",
      "Epoch:0; Step: 20; loss: 0.3031817078590393\n",
      "Epoch:0; Step: 30; loss: 0.2840678095817566\n",
      "Epoch:0; Step: 40; loss: 0.2174217253923416\n",
      "Epoch:0; Step: 50; loss: 0.29895099997520447\n",
      "Epoch:0; Step: 60; loss: 0.23612485826015472\n",
      "Epoch:0; Step: 70; loss: 0.1967872977256775\n",
      "Epoch:0; Step: 80; loss: 0.19700726866722107\n",
      "Epoch:0; Step: 90; loss: 0.1855168491601944\n",
      "Epoch:0; Step: 100; loss: 0.20173048973083496\n",
      "Epoch:0; Step: 110; loss: 0.266267865896225\n",
      "Epoch:0; Step: 120; loss: 0.2561732530593872\n",
      "Epoch:0; Step: 130; loss: 0.20615340769290924\n",
      "Epoch:0; Step: 140; loss: 0.19320911169052124\n",
      "Epoch:0; Step: 150; loss: 0.19195593893527985\n",
      "Epoch:0; Step: 160; loss: 0.1940772980451584\n",
      "Epoch:0; Step: 170; loss: 0.14146924018859863\n",
      "Epoch:0; Step: 180; loss: 0.2638438045978546\n",
      "Epoch:0; Step: 190; loss: 0.10949670523405075\n",
      "Epoch:0; Step: 200; loss: 0.1676878184080124\n",
      "Epoch:0; Step: 210; loss: 0.1917532980442047\n",
      "Epoch:0; Step: 220; loss: 0.1770448088645935\n",
      "Epoch:0; Step: 230; loss: 0.05187014117836952\n",
      "Epoch:1; Step: 0; loss: 0.2013569176197052\n",
      "Epoch:1; Step: 10; loss: 0.1647728681564331\n",
      "Epoch:1; Step: 20; loss: 0.206532821059227\n",
      "Epoch:1; Step: 30; loss: 0.2356492131948471\n",
      "Epoch:1; Step: 40; loss: 0.18055224418640137\n",
      "Epoch:1; Step: 50; loss: 0.24503085017204285\n",
      "Epoch:1; Step: 60; loss: 0.16183550655841827\n",
      "Epoch:1; Step: 70; loss: 0.13277608156204224\n",
      "Epoch:1; Step: 80; loss: 0.1643599569797516\n",
      "Epoch:1; Step: 90; loss: 0.13084468245506287\n",
      "Epoch:1; Step: 100; loss: 0.15252256393432617\n",
      "Epoch:1; Step: 110; loss: 0.1686607003211975\n",
      "Epoch:1; Step: 120; loss: 0.24043047428131104\n",
      "Epoch:1; Step: 130; loss: 0.19375978410243988\n",
      "Epoch:1; Step: 140; loss: 0.1884770691394806\n",
      "Epoch:1; Step: 150; loss: 0.18303777277469635\n",
      "Epoch:1; Step: 160; loss: 0.14761728048324585\n",
      "Epoch:1; Step: 170; loss: 0.13505887985229492\n",
      "Epoch:1; Step: 180; loss: 0.2550538182258606\n",
      "Epoch:1; Step: 190; loss: 0.11397549510002136\n",
      "Epoch:1; Step: 200; loss: 0.17874032258987427\n",
      "Epoch:1; Step: 210; loss: 0.2102859616279602\n",
      "Epoch:1; Step: 220; loss: 0.15638814866542816\n",
      "Epoch:1; Step: 230; loss: 0.035996198654174805\n",
      "Epoch:2; Step: 0; loss: 0.15469597280025482\n",
      "Epoch:2; Step: 10; loss: 0.1573871374130249\n",
      "Epoch:2; Step: 20; loss: 0.1974383145570755\n",
      "Epoch:2; Step: 30; loss: 0.18735834956169128\n",
      "Epoch:2; Step: 40; loss: 0.17936943471431732\n",
      "Epoch:2; Step: 50; loss: 0.2709156274795532\n",
      "Epoch:2; Step: 60; loss: 0.16107088327407837\n",
      "Epoch:2; Step: 70; loss: 0.13762980699539185\n",
      "Epoch:2; Step: 80; loss: 0.1773320436477661\n",
      "Epoch:2; Step: 90; loss: 0.11420335620641708\n",
      "Epoch:2; Step: 100; loss: 0.14893615245819092\n",
      "Epoch:2; Step: 110; loss: 0.19945044815540314\n",
      "Epoch:2; Step: 120; loss: 0.1932283639907837\n",
      "Epoch:2; Step: 130; loss: 0.194364532828331\n",
      "Epoch:2; Step: 140; loss: 0.19938644766807556\n",
      "Epoch:2; Step: 150; loss: 0.15005609393119812\n",
      "Epoch:2; Step: 160; loss: 0.14573384821414948\n",
      "Epoch:2; Step: 170; loss: 0.127245232462883\n",
      "Epoch:2; Step: 180; loss: 0.21859516203403473\n",
      "Epoch:2; Step: 190; loss: 0.11264535784721375\n",
      "Epoch:2; Step: 200; loss: 0.1532493382692337\n",
      "Epoch:2; Step: 210; loss: 0.19411787390708923\n",
      "Epoch:2; Step: 220; loss: 0.16154716908931732\n",
      "Epoch:2; Step: 230; loss: 0.031887926161289215\n"
     ]
    }
   ],
   "source": [
    "learning_rate = 0.01\n",
    "momentum = 0.5\n",
    "log_interval = 10\n",
    "nepoch = 3\n",
    "num_workers = 0\n",
    "\n",
    "optimizer = optim.SGD(train_model.pd_parameters(), lr=learning_rate, momentum = momentum)\n",
    "exp_lr_scheduler = lr_scheduler.StepLR(optimizer, step_size=7, gamma=0.95)\n",
    "\n",
    "\n",
    "\n",
    "for epoch in range(nepoch):\n",
    "    step_counter = 0\n",
    "    for batch_output, batch_targets in train_model.train_apply(mnist_train_dataset, num_workers=num_workers, batch_size=256):\n",
    "\n",
    "        optimizer.zero_grad()\n",
    "\n",
    "        loss = F.nll_loss(batch_output, batch_targets)\n",
    "\n",
    "        loss.backward()\n",
    "\n",
    "        optimizer.step()\n",
    "        exp_lr_scheduler.step()\n",
    "\n",
    "        if step_counter % log_interval == 0:\n",
    "            print(f'Epoch:{epoch}; Step: {step_counter}; loss: {loss}')\n",
    "        step_counter += 1"
   ]
  },
  {
   "cell_type": "markdown",
   "id": "d3b3aeb9",
   "metadata": {},
   "source": [
    "### 4.4 Validate the model"
   ]
  },
  {
   "cell_type": "code",
   "execution_count": 32,
   "id": "4cadda40",
   "metadata": {},
   "outputs": [
    {
     "name": "stdout",
     "output_type": "stream",
     "text": [
      "Accuracy of model: 0.9718\n"
     ]
    }
   ],
   "source": [
    "# Calculate accuracy\n",
    "accuracy = 0\n",
    "for batch_output, batch_targets in validation_model.eval_apply(mnist_test_dataset, num_workers=0, batch_size=256):\n",
    "    accuracy += (batch_targets == batch_output).sum()\n",
    "\n",
    "accuracy = accuracy.item()/ len(mnist_test_dataset)\n",
    "print(f'Accuracy of model: {accuracy}')"
   ]
  },
  {
   "cell_type": "code",
   "execution_count": null,
   "id": "7e77148c",
   "metadata": {},
   "outputs": [],
   "source": []
  }
 ],
 "metadata": {
  "kernelspec": {
   "display_name": "padl_env",
   "language": "python",
   "name": "padl_env"
  },
  "language_info": {
   "codemirror_mode": {
    "name": "ipython",
    "version": 3
   },
   "file_extension": ".py",
   "mimetype": "text/x-python",
   "name": "python",
   "nbconvert_exporter": "python",
   "pygments_lexer": "ipython3",
   "version": "3.8.8"
  }
 },
 "nbformat": 4,
 "nbformat_minor": 5
}
