{
 "cells": [
  {
   "cell_type": "code",
   "execution_count": 1,
   "id": "6b96b588",
   "metadata": {},
   "outputs": [],
   "source": [
    "# You may also need to install torchvision and matplotlib\n",
    "# !pip install matplotlib\n",
    "# !pip install torchvision==0.11.0\n",
    "\n",
    "# These might be useful if there are errors regarding ipywidgets while downloading torchvision.datasets\n",
    "# !pip install ipywidgets\n",
    "# !jupyter nbextension enable --py widgetsnbextension"
   ]
  },
  {
   "cell_type": "markdown",
   "id": "a1fcbb10",
   "metadata": {},
   "source": [
    "## Imports\n",
    "\n",
    "Importing `padl` and most importantly `transform` decorator used to change any `callable` to `padl.Transform`."
   ]
  },
  {
   "cell_type": "code",
   "execution_count": 2,
   "id": "528c0a2f",
   "metadata": {},
   "outputs": [],
   "source": [
    "import sys\n",
    "sys.path.append('../')"
   ]
  },
  {
   "cell_type": "code",
   "execution_count": 3,
   "id": "bd560eb8",
   "metadata": {},
   "outputs": [],
   "source": [
    "import numpy as np\n",
    "import matplotlib.pyplot as plt\n",
    "\n",
    "import torch\n",
    "import torchvision\n",
    "from torchvision import models\n",
    "\n",
    "import padl\n",
    "from padl import transform"
   ]
  },
  {
   "cell_type": "markdown",
   "id": "a2e86d14",
   "metadata": {},
   "source": [
    "## Dataset:\n",
    "MNIST dataset available through torchvision is used in this notebook. The dataset can be separately downloaded from MNIST website or can be loaded as given below. \n",
    "\n",
    "More details on torchvision's MNIST dataset can be found here: https://pytorch.org/vision/stable/datasets.html#mnist"
   ]
  },
  {
   "cell_type": "code",
   "execution_count": 4,
   "id": "ef381508",
   "metadata": {},
   "outputs": [],
   "source": [
    "mnist_train_dataset = torchvision.datasets.MNIST('data', train=True, download=True)\n",
    "mnist_test_dataset = torchvision.datasets.MNIST('data', train=False, download=True)"
   ]
  },
  {
   "cell_type": "markdown",
   "id": "e2f5e057",
   "metadata": {},
   "source": [
    "<hr style=\"border:1px solid\"> </hr>\n",
    "\n",
    "\n",
    "### 1. Plot few images to check the data\n",
    "\n",
    "`plot_image` is a normal standard function that takes in an image tensor and uses `matplotlib.pyplot` to plot the image. With `@transform` decorator, we can easily convert it to `padl.transform`. This allows us to use `padl` functional api and build data pipeline easily and quickly. \n",
    "\n",
    "Quick recap to `padl` operators:\n",
    "- `>>`: Compose operator: $(f_1 >> f_2)(x) \\rightarrow f_2(f_1(x))$\n",
    "- `+`: Rollout operator: $(f_1 + f_2) (x) \\rightarrow (f_1(x), f_2(x))$\n",
    "- `/`: Parallel operator: $(f_1 / f_2)((x_1,x_2)) \\rightarrow (f_1(x_1), f_2(x_2))$\n",
    "- `-`: Name operator: Names a transform so that its output can be accesed by given name or the transform itself can be accessed by its name from the pipeline:  \n",
    "    - $((f_1 - \\text{'zulu'})+f_2)(x) \\rightarrow \\text{Namedtuple}(\\text{'zulu'}:f_1(x), \\text{'out_1'}:f_2(x))$\n",
    "    - $((f_1 - \\text{'zulu'})+f_2)[\\text{'zulu'}] = f_1$\n",
    "    \n",
    "Note that outputs of `Rollout` and `Parallel` are tuples.\n",
    "\n",
    "For more details on operators and building compound transforms, refer to the documentation: https://lf1-io.github.io/padl/gettingstarted.html#defining-compound-transforms"
   ]
  },
  {
   "cell_type": "code",
   "execution_count": 5,
   "id": "6a60c4ea",
   "metadata": {},
   "outputs": [],
   "source": [
    "@transform\n",
    "def plot_image(img_tensor):\n",
    "    fig= plt.figure(figsize=(2,2))\n",
    "    ax = fig.add_subplot(111)\n",
    "    ax.imshow(img_tensor, cmap='gray')\n",
    "    plt.axis('off')\n",
    "    return fig"
   ]
  },
  {
   "cell_type": "markdown",
   "id": "75656124",
   "metadata": {},
   "source": [
    "### 1.1 Building a simple ploting pipeline using `padl` operators\n",
    "\n",
    "Description of inbuilt transforms used.\n",
    "\n",
    "- `padl.this` is a self reflexive trasform that allows for a quick mutation of input. \n",
    "\n",
    "        Example: padl.this[0]([1,2,3]) = 1\n",
    "\n",
    "- `padl.Identity()` is a simple transform that does exactly as it sounds, passes the input on as it is. \n",
    "\n",
    "        Example: padl.Identity()([1,2,3]) = [1,2,3]\n",
    "\n",
    "\n",
    "\n",
    "Description of `transform` pipeline defined below.\n",
    "- `convert_plot`: Takes in a `PIL.Image` that is converted to numpy array, and then is plotted using `plot_image` transform defined above. \n",
    "- `plot_datapoint`: \n",
    "    - It is a `parrallel` that passes first part of input to convert_plot and passes second part of input as it is with `padl.Identity`\n",
    "    - transforms are also named by `-`, so the output is a named tuple, with elements named as the transform name.\n",
    "\n",
    "\n"
   ]
  },
  {
   "cell_type": "code",
   "execution_count": 6,
   "id": "012b6ad6",
   "metadata": {},
   "outputs": [],
   "source": [
    "@transform\n",
    "def img_to_array(img):\n",
    "    return np.asarray(img)\n",
    "\n",
    "convert_plot = (\n",
    "    img_to_array\n",
    "    >> plot_image\n",
    ")\n",
    "\n",
    "plot_datapoint = (convert_plot - 'image')/ (padl.Identity() - 'label')"
   ]
  },
  {
   "cell_type": "code",
   "execution_count": 7,
   "id": "594cc416",
   "metadata": {
    "scrolled": false
   },
   "outputs": [
    {
     "data": {
      "image/png": "[encoded data removed]",
      "text/plain": [
       "<Figure size 144x144 with 1 Axes>"
      ]
     },
     "metadata": {
      "needs_background": "light"
     },
     "output_type": "display_data"
    }
   ],
   "source": [
    "out = plot_datapoint(mnist_train_dataset[0])"
   ]
  },
  {
   "cell_type": "code",
   "execution_count": 8,
   "id": "c394d4fd",
   "metadata": {},
   "outputs": [
    {
     "data": {
      "text/plain": [
       "5"
      ]
     },
     "execution_count": 8,
     "metadata": {},
     "output_type": "execute_result"
    }
   ],
   "source": [
    "out.label"
   ]
  },
  {
   "cell_type": "code",
   "execution_count": 9,
   "id": "d76f0ff7",
   "metadata": {},
   "outputs": [
    {
     "name": "stdout",
     "output_type": "stream",
     "text": [
      "Label : 0\n"
     ]
    },
    {
     "data": {
      "image/png": "[encoded data removed]",
      "text/plain": [
       "<Figure size 144x144 with 1 Axes>"
      ]
     },
     "metadata": {
      "needs_background": "light"
     },
     "output_type": "display_data"
    },
    {
     "name": "stdout",
     "output_type": "stream",
     "text": [
      "------------------------------\n",
      "Label : 3\n"
     ]
    },
    {
     "data": {
      "image/png": "[encoded data removed]",
      "text/plain": [
       "<Figure size 144x144 with 1 Axes>"
      ]
     },
     "metadata": {
      "needs_background": "light"
     },
     "output_type": "display_data"
    },
    {
     "name": "stdout",
     "output_type": "stream",
     "text": [
      "------------------------------\n",
      "Label : 8\n"
     ]
    },
    {
     "data": {
      "image/png": "[encoded data removed]",
      "text/plain": [
       "<Figure size 144x144 with 1 Axes>"
      ]
     },
     "metadata": {
      "needs_background": "light"
     },
     "output_type": "display_data"
    },
    {
     "name": "stdout",
     "output_type": "stream",
     "text": [
      "------------------------------\n",
      "Label : 1\n"
     ]
    },
    {
     "data": {
      "image/png": "[encoded data removed]",
      "text/plain": [
       "<Figure size 144x144 with 1 Axes>"
      ]
     },
     "metadata": {
      "needs_background": "light"
     },
     "output_type": "display_data"
    },
    {
     "name": "stdout",
     "output_type": "stream",
     "text": [
      "------------------------------\n",
      "Label : 9\n"
     ]
    },
    {
     "data": {
      "image/png": "[encoded data removed]",
      "text/plain": [
       "<Figure size 144x144 with 1 Axes>"
      ]
     },
     "metadata": {
      "needs_background": "light"
     },
     "output_type": "display_data"
    },
    {
     "name": "stdout",
     "output_type": "stream",
     "text": [
      "------------------------------\n"
     ]
    }
   ],
   "source": [
    "# Plotting some of the train datapoints\n",
    "\n",
    "for _ in range(5):\n",
    "    output = plot_datapoint(mnist_train_dataset[np.random.randint(len(mnist_train_dataset))])\n",
    "    print(f'Label : {output.label}')\n",
    "    # showing image\n",
    "    plt.show()\n",
    "    print('-'*30)"
   ]
  },
  {
   "cell_type": "markdown",
   "id": "b06535ca",
   "metadata": {},
   "source": [
    "<hr style=\"border:1px solid\"> </hr>\n",
    "\n",
    "\n",
    "### 2. Model\n",
    "We will build a simple `Unet` to classify `MNIST` handwritings. In the cell below, a simple pytorch net is defined with just one added decorator `@transform`. This is enough to wrap the pytorch model into `padl.Transform` and use it with other transform to build a data pipeline."
   ]
  },
  {
   "cell_type": "markdown",
   "id": "fa6434c1",
   "metadata": {},
   "source": [
    "### 2.1 Simple Unet"
   ]
  },
  {
   "cell_type": "code",
   "execution_count": 10,
   "id": "63ad5c29",
   "metadata": {},
   "outputs": [],
   "source": [
    "\n",
    "import torch.nn.functional as F\n",
    "from torch.utils.data import DataLoader\n",
    "import torch.optim as optim\n",
    "from torch.optim import lr_scheduler\n",
    "\n",
    "        \n",
    "@transform\n",
    "class SimpleNet(torch.nn.Module):\n",
    "    def __init__(self):\n",
    "        super().__init__()\n",
    "\n",
    "        # Conv 1\n",
    "        # size : input: 28x28x1 -> output : 26 x 26 x 32\n",
    "        self.conv1 = torch.nn.Conv2d(1, 32, kernel_size=3)\n",
    "        self.batchnorm1 = torch.nn.BatchNorm2d(32)\n",
    "        \n",
    "        # Conv 2\n",
    "        # size : input: 26x26x32 -> output : 24 x 24 x 32\n",
    "        self.conv2 = torch.nn.Conv2d(32, 32, kernel_size=3)\n",
    "        self.batchnorm2 = torch.nn.BatchNorm2d(32)\n",
    "        \n",
    "        # Conv 3\n",
    "        # size : input: 24x24x32 -> output : 12 x 12 x 32\n",
    "        self.conv3 = torch.nn.Conv2d(32, 32, kernel_size=2, stride = 2)\n",
    "        self.batchnorm3 = torch.nn.BatchNorm2d(32)\n",
    "        \n",
    "        # Conv 4\n",
    "        # size : input : 12 x 12 x 32 -> output : 8 x 8 x 64\n",
    "        self.conv4 = torch.nn.Conv2d(32, 64, kernel_size=5)\n",
    "        self.batchnorm4 = torch.nn.BatchNorm2d(64)\n",
    "        \n",
    "        # Conv 5\n",
    "        # size : input: 8x8x64 -> output : 4 x 4 x 64 -> Linearize = 1024\n",
    "        self.conv5 = torch.nn.Conv2d(64, 64, kernel_size=2, stride = 2)\n",
    "        self.batchnorm5 = torch.nn.BatchNorm2d(64)\n",
    "        \n",
    "        # dropout layer \n",
    "        self.conv5_drop = torch.nn.Dropout2d()\n",
    "        \n",
    "        # FC 1 \n",
    "        self.fc1 = torch.nn.Linear(1024, 128)\n",
    "        \n",
    "        # FC 2\n",
    "        self.fc2 = torch.nn.Linear(128, 10)\n",
    "\n",
    "    def forward(self, x):\n",
    "        x = self.batchnorm1(F.relu(self.conv1(x)))\n",
    "        x = self.batchnorm2(F.relu(self.conv2(x)))\n",
    "        x = self.batchnorm3(F.relu(self.conv3(x)))\n",
    "        x = self.batchnorm4(F.relu(self.conv4(x)))\n",
    "        x = self.batchnorm5(F.relu(self.conv5(x)))\n",
    "        x = self.conv5_drop(x)\n",
    "        x = x.view(-1, 1024)\n",
    "        x = F.relu(self.fc1(x))\n",
    "        x = F.log_softmax(self.fc2(x), dim=1)\n",
    "        return x"
   ]
  },
  {
   "cell_type": "markdown",
   "id": "dba2265f",
   "metadata": {},
   "source": [
    "### 2.2 Preprocessing\n",
    "\n",
    "The `preprocess` pipeline below, again splits the datapoint to two different pipelines for `PIL.Image` and `int` label. First part of parralel pipeline, converts the image into torch tensor of type float, and second part passes the label as it is. The label later will be used for the loss function. "
   ]
  },
  {
   "cell_type": "code",
   "execution_count": 11,
   "id": "efb38956",
   "metadata": {},
   "outputs": [],
   "source": [
    "@transform\n",
    "def convert_to_tensor(img):\n",
    "    arr = np.asarray(img)\n",
    "    return torch.tensor(arr).type(torch.FloatTensor)\n",
    "\n",
    "\n",
    "preprocess = (\n",
    "    convert_to_tensor / convert_to_tensor\n",
    "    >> padl.this.reshape(-1, 28, 28) / padl.Identity()\n",
    ")"
   ]
  },
  {
   "cell_type": "markdown",
   "id": "ec776202",
   "metadata": {},
   "source": [
    "### 2.3 Instantiating the network and loss function\n",
    "\n",
    "Initialising instances of `SimpleNet` and `loss` function. Loss function here is a wrapped `torch` negative log likelihood loss which is again wrapped easily with same `transform` call. "
   ]
  },
  {
   "cell_type": "code",
   "execution_count": 12,
   "id": "e9a699bc",
   "metadata": {},
   "outputs": [],
   "source": [
    "simplenet = SimpleNet()\n",
    "loss_func = transform(F.nll_loss)"
   ]
  },
  {
   "cell_type": "code",
   "execution_count": 13,
   "id": "6bce20bc",
   "metadata": {},
   "outputs": [
    {
     "data": {
      "text/plain": [
       "\u001b[1mSimpleNet()\u001b[0m:\n",
       "\n",
       "   SimpleNet(\n",
       "     (conv1): Conv2d(1, 32, kernel_size=(3, 3), stride=(1, 1))\n",
       "     (batchnorm1): BatchNorm2d(32, eps=1e-05, momentum=0.1, affine=True, track_running_stats=True)\n",
       "     (conv2): Conv2d(32, 32, kernel_size=(3, 3), stride=(1, 1))\n",
       "     (batchnorm2): BatchNorm2d(32, eps=1e-05, momentum=0.1, affine=True, track_running_stats=True)\n",
       "     (conv3): Conv2d(32, 32, kernel_size=(2, 2), stride=(2, 2))\n",
       "     (batchnorm3): BatchNorm2d(32, eps=1e-05, momentum=0.1, affine=True, track_running_stats=True)\n",
       "     (conv4): Conv2d(32, 64, kernel_size=(5, 5), stride=(1, 1))\n",
       "     (batchnorm4): BatchNorm2d(64, eps=1e-05, momentum=0.1, affine=True, track_running_stats=True)\n",
       "     (conv5): Conv2d(64, 64, kernel_size=(2, 2), stride=(2, 2))\n",
       "     (batchnorm5): BatchNorm2d(64, eps=1e-05, momentum=0.1, affine=True, track_running_stats=True)\n",
       "     (conv5_drop): Dropout2d(p=0.5, inplace=False)\n",
       "     (fc1): Linear(in_features=1024, out_features=128, bias=True)\n",
       "     (fc2): Linear(in_features=128, out_features=10, bias=True)\n",
       "   )"
      ]
     },
     "execution_count": 13,
     "metadata": {},
     "output_type": "execute_result"
    }
   ],
   "source": [
    "simplenet"
   ]
  },
  {
   "cell_type": "code",
   "execution_count": 14,
   "id": "616132d5",
   "metadata": {},
   "outputs": [
    {
     "data": {
      "text/plain": [
       "\u001b[1mnll_loss\u001b[0m:\n",
       "\n",
       "   def nll_loss(\n",
       "       input: Tensor,\n",
       "       target: Tensor,\n",
       "       weight: Optional[Tensor] = None,\n",
       "       size_average: Optional[bool] = None,\n",
       "       ignore_index: int = -100,\n",
       "       reduce: Optional[bool] = None,\n",
       "       reduction: str = \"mean\",\n",
       "   ) -> Tensor:\n",
       "       r\"\"\"The negative log likelihood loss.\n",
       "\n",
       "       See :class:`~torch.nn.NLLLoss` for details.\n",
       "\n",
       "       Args:\n",
       "           input: :math:`(N, C)` where `C = number of classes` or :math:`(N, C, H, W)`\n",
       "               in case of 2D Loss, or :math:`(N, C, d_1, d_2, ..., d_K)` where :math:`K \\geq 1`\n",
       "               in the case of K-dimensional loss. `input` is expected to be log-probabilities.\n",
       "           target: :math:`(N)` where each value is :math:`0 \\leq \\text{targets}[i] \\leq C-1`,\n",
       "               or :math:`(N, d_1, d_2, ..., d_K)` where :math:`K \\geq 1` for\n",
       "               K-dimensional loss.\n",
       "           weight (Tensor, optional): a manual rescaling weight given to each\n",
       "               class. If given, has to be a Tensor of size `C`\n",
       "           size_average (bool, optional): Deprecated (see :attr:`reduction`). By default,\n",
       "               the losses are averaged over each loss element in the batch. Note that for\n",
       "               some losses, there multiple elements per sample. If the field :attr:`size_average`\n",
       "               is set to ``False``, the losses are instead summed for each minibatch. Ignored\n",
       "               when reduce is ``False``. Default: ``True``\n",
       "           ignore_index (int, optional): Specifies a target value that is ignored\n",
       "               and does not contribute to the input gradient. When :attr:`size_average` is\n",
       "               ``True``, the loss is averaged over non-ignored targets. Default: -100"
      ]
     },
     "execution_count": 14,
     "metadata": {},
     "output_type": "execute_result"
    }
   ],
   "source": [
    "loss_func"
   ]
  },
  {
   "cell_type": "markdown",
   "id": "9e25508e",
   "metadata": {},
   "source": [
    "### 2.4  Building the training model"
   ]
  },
  {
   "cell_type": "markdown",
   "id": "5691e6e7",
   "metadata": {},
   "source": [
    "`train_model` is now composed (`>>`) with the transforms already defined.\n",
    "- preprocess: preprocessing transform defined above\n",
    "- Batchify: Batchify is a inbuilt `transform` that marks end of preprocess (dataloading) and that adds batch dimension to the inputs. Batchify also moves the input tensors to device specified for the model\n",
    "- simplenet: Instance of SimpleNet\n",
    "- padl.this: A self reflexive trasform that allows for a quick mutation of input.\n",
    "\n",
    "`train_model` is then sent to the intended device. It is by default in `cpu`.\n"
   ]
  },
  {
   "cell_type": "code",
   "execution_count": 15,
   "id": "8134bd7f",
   "metadata": {},
   "outputs": [
    {
     "name": "stdout",
     "output_type": "stream",
     "text": [
      "Device to be used:  cpu\n"
     ]
    }
   ],
   "source": [
    "device = 'cuda' if torch.cuda.is_available() else 'cpu'\n",
    "print('Device to be used: ', device)"
   ]
  },
  {
   "cell_type": "code",
   "execution_count": 16,
   "id": "0c73d5ae",
   "metadata": {},
   "outputs": [
    {
     "data": {
      "text/plain": [
       "\u001b[1mCompose\u001b[0m:\n",
       "\n",
       "   \u001b[32m   │└────────────────────┐\n",
       "      │                     │\n",
       "      ▼ img                 ▼ img\u001b[0m\n",
       "   \u001b[1m0: \u001b[0mconvert_to_tensor   \u001b[32m/\u001b[0m convert_to_tensor\n",
       "   \u001b[32m   │                     │\n",
       "      ▼ args                ▼ args\u001b[0m\n",
       "   \u001b[1m1: \u001b[0mreshape(-1, 28, 28) \u001b[32m/\u001b[0m padl.Identity()  \n",
       "   \u001b[32m   │\n",
       "      ▼ args\u001b[0m\n",
       "   \u001b[1m2: \u001b[0mBatchify(dim=0)    \n",
       "   \u001b[32m   │└────────────────────┐\n",
       "      │                     │\n",
       "      ▼ x                   ▼ args\u001b[0m\n",
       "   \u001b[1m3: \u001b[0mSimpleNet()         \u001b[32m/\u001b[0m type(torch.int64)"
      ]
     },
     "execution_count": 16,
     "metadata": {},
     "output_type": "execute_result"
    }
   ],
   "source": [
    "train_model = (\n",
    "    preprocess\n",
    "    >> padl.Batchify()\n",
    "    >> simplenet / padl.this.type(torch.long)\n",
    ")\n",
    "\n",
    "train_model.pd_to(device)"
   ]
  },
  {
   "cell_type": "markdown",
   "id": "2d982878",
   "metadata": {},
   "source": [
    "<hr style=\"border:1px solid\"> </hr>\n",
    "\n",
    "\n",
    "### 3. Training and validating the `train_model`\n",
    "\n",
    "Training is not much different than the normal torch training steps, except dataloading and training is made even simplier by `train_apply`. It is one of the three inbuilt methods along with `infer_apply` and `eval_apply` that handles the stage context of model."
   ]
  },
  {
   "cell_type": "code",
   "execution_count": 17,
   "id": "5f95e62b",
   "metadata": {
    "scrolled": false
   },
   "outputs": [
    {
     "name": "stdout",
     "output_type": "stream",
     "text": [
      "Epoch:0; Step: 0; loss: 2.3085103034973145\n",
      "Epoch:0; Step: 10; loss: 2.054443359375\n",
      "Epoch:0; Step: 20; loss: 1.706283688545227\n",
      "Epoch:0; Step: 30; loss: 1.4256861209869385\n",
      "Epoch:0; Step: 40; loss: 1.1271275281906128\n",
      "Epoch:0; Step: 50; loss: 1.0487807989120483\n",
      "Epoch:0; Step: 60; loss: 0.7397987842559814\n",
      "Epoch:0; Step: 70; loss: 0.6409561634063721\n",
      "Epoch:0; Step: 80; loss: 0.6292180418968201\n",
      "Epoch:0; Step: 90; loss: 0.5615631341934204\n",
      "Epoch:0; Step: 100; loss: 0.47212377190589905\n",
      "Epoch:0; Step: 110; loss: 0.5419679880142212\n",
      "Epoch:0; Step: 120; loss: 0.5239319205284119\n",
      "Epoch:0; Step: 130; loss: 0.4683115482330322\n",
      "Epoch:0; Step: 140; loss: 0.4360449016094208\n",
      "Epoch:0; Step: 150; loss: 0.4210889935493469\n",
      "Epoch:0; Step: 160; loss: 0.37823283672332764\n",
      "Epoch:0; Step: 170; loss: 0.316006064414978\n",
      "Epoch:0; Step: 180; loss: 0.40278348326683044\n",
      "Epoch:0; Step: 190; loss: 0.27032557129859924\n",
      "Epoch:0; Step: 200; loss: 0.32978716492652893\n",
      "Epoch:0; Step: 210; loss: 0.34087681770324707\n",
      "Epoch:0; Step: 220; loss: 0.31426024436950684\n",
      "Epoch:0; Step: 230; loss: 0.12959186732769012\n",
      "Epoch:1; Step: 0; loss: 0.31286484003067017\n",
      "Epoch:1; Step: 10; loss: 0.2880234122276306\n",
      "Epoch:1; Step: 20; loss: 0.338689923286438\n",
      "Epoch:1; Step: 30; loss: 0.34207677841186523\n",
      "Epoch:1; Step: 40; loss: 0.2654731869697571\n",
      "Epoch:1; Step: 50; loss: 0.3607393503189087\n",
      "Epoch:1; Step: 60; loss: 0.26549816131591797\n",
      "Epoch:1; Step: 70; loss: 0.2484167218208313\n",
      "Epoch:1; Step: 80; loss: 0.285735547542572\n",
      "Epoch:1; Step: 90; loss: 0.26167428493499756\n",
      "Epoch:1; Step: 100; loss: 0.2671133577823639\n",
      "Epoch:1; Step: 110; loss: 0.33493226766586304\n",
      "Epoch:1; Step: 120; loss: 0.3299217224121094\n",
      "Epoch:1; Step: 130; loss: 0.29857489466667175\n",
      "Epoch:1; Step: 140; loss: 0.2915211021900177\n",
      "Epoch:1; Step: 150; loss: 0.3016079366207123\n",
      "Epoch:1; Step: 160; loss: 0.25527042150497437\n",
      "Epoch:1; Step: 170; loss: 0.23224493861198425\n",
      "Epoch:1; Step: 180; loss: 0.3431799113750458\n",
      "Epoch:1; Step: 190; loss: 0.20803454518318176\n",
      "Epoch:1; Step: 200; loss: 0.24521981179714203\n",
      "Epoch:1; Step: 210; loss: 0.2634449303150177\n",
      "Epoch:1; Step: 220; loss: 0.24938784539699554\n",
      "Epoch:1; Step: 230; loss: 0.09175731986761093\n"
     ]
    }
   ],
   "source": [
    "learning_rate = 0.01\n",
    "momentum = 0.5\n",
    "log_interval = 10\n",
    "nepoch = 2\n",
    "num_workers = 0\n",
    "\n",
    "optimizer = optim.SGD(train_model.pd_parameters(), lr=learning_rate, momentum = momentum)\n",
    "exp_lr_scheduler = lr_scheduler.StepLR(optimizer, step_size=7, gamma=0.95)\n",
    "\n",
    "\n",
    "\n",
    "for epoch in range(nepoch):\n",
    "    step_counter = 0\n",
    "    for batch_output, batch_targets in train_model.train_apply(mnist_train_dataset, num_workers=num_workers, batch_size=256):\n",
    "\n",
    "        optimizer.zero_grad()\n",
    "\n",
    "        loss = F.nll_loss(batch_output, batch_targets)\n",
    "\n",
    "        loss.backward()\n",
    "\n",
    "        optimizer.step()\n",
    "        exp_lr_scheduler.step()\n",
    "\n",
    "        if step_counter % log_interval == 0:\n",
    "            print(f'Epoch:{epoch}; Step: {step_counter}; loss: {loss}')\n",
    "        step_counter += 1"
   ]
  },
  {
   "cell_type": "markdown",
   "id": "a93b68ed",
   "metadata": {},
   "source": [
    "### 3.1 Accuracy of the model\n",
    "\n",
    "We can quickly build a `validation_model` by adding a further step to `train_model` to get the number associated with the maximum confidence predicted by the model. \n",
    "\n",
    "\n",
    "Note: As we don't have a separate validation dataset with labels, we will have to use the same train data to `validate` the model in this example.\n",
    "\n",
    "\n",
    "First, lets look at the format of the prediction by `infer_apply`ing one of datapoint."
   ]
  },
  {
   "cell_type": "code",
   "execution_count": 18,
   "id": "35b39dae",
   "metadata": {},
   "outputs": [
    {
     "data": {
      "text/plain": [
       "\u001b[1mCompose\u001b[0m:\n",
       "\n",
       "   \u001b[32m   │└────────────────────┐\n",
       "      │                     │\n",
       "      ▼ img                 ▼ img\u001b[0m\n",
       "   \u001b[1m0: \u001b[0mconvert_to_tensor   \u001b[32m/\u001b[0m convert_to_tensor\n",
       "   \u001b[32m   │                     │\n",
       "      ▼ args                ▼ args\u001b[0m\n",
       "   \u001b[1m1: \u001b[0mreshape(-1, 28, 28) \u001b[32m/\u001b[0m padl.Identity()  \n",
       "   \u001b[32m   │\n",
       "      ▼ args\u001b[0m\n",
       "   \u001b[1m2: \u001b[0mBatchify(dim=0)    \n",
       "   \u001b[32m   │└────────────────────┐\n",
       "      │                     │\n",
       "      ▼ x                   ▼ args\u001b[0m\n",
       "   \u001b[1m3: \u001b[0mSimpleNet()         \u001b[32m/\u001b[0m type(torch.int64)"
      ]
     },
     "execution_count": 18,
     "metadata": {},
     "output_type": "execute_result"
    }
   ],
   "source": [
    "train_model"
   ]
  },
  {
   "cell_type": "code",
   "execution_count": 19,
   "id": "556e1b76",
   "metadata": {},
   "outputs": [
    {
     "data": {
      "text/plain": [
       "(tensor([[-6.2247, -7.3218, -5.8183, -1.4469, -8.6301, -0.3001, -7.0715, -6.6834,\n",
       "          -4.1835, -7.0959]]),\n",
       " tensor([5]))"
      ]
     },
     "execution_count": 19,
     "metadata": {},
     "output_type": "execute_result"
    }
   ],
   "source": [
    "train_model.infer_apply(mnist_train_dataset[0])"
   ]
  },
  {
   "cell_type": "markdown",
   "id": "d8105d54",
   "metadata": {},
   "source": [
    "`train_model` predicts a tensor of confidence associated for the 10 numbers, and the index associated with the maximum of these confidence is the prediction by the model. Thus, we can add another transform to the same `train_model` to get that index associated with maximum of the confidence. \n",
    "\n",
    "Note that the new `validation_model` is a new instance of Transform but it contains same objects as `train_model` with added two new `transform`s. All the transform objects that are already in `train_model` is in `device` as assigned above, but the main `validation_model` object itself will have by default `cpu` device assigned. Thus, to move it to (or assign it with) correct device, we have to again call `pd_to(device)`."
   ]
  },
  {
   "cell_type": "code",
   "execution_count": 20,
   "id": "27a6b4f5",
   "metadata": {},
   "outputs": [
    {
     "data": {
      "text/plain": [
       "\u001b[1mCompose\u001b[0m:\n",
       "\n",
       "   \u001b[32m   │└───────────────────────────┐\n",
       "      │                            │\n",
       "      ▼ img                        ▼ img\u001b[0m\n",
       "   \u001b[1m0: \u001b[0mconvert_to_tensor          \u001b[32m/\u001b[0m convert_to_tensor\n",
       "   \u001b[32m   │                            │\n",
       "      ▼ args                       ▼ args\u001b[0m\n",
       "   \u001b[1m1: \u001b[0mreshape(-1, 28, 28)        \u001b[32m/\u001b[0m padl.Identity()  \n",
       "   \u001b[32m   │\n",
       "      ▼ args\u001b[0m\n",
       "   \u001b[1m2: \u001b[0mBatchify(dim=0)           \n",
       "   \u001b[32m   │└───────────────────────────┐\n",
       "      │                            │\n",
       "      ▼ x                          ▼ args\u001b[0m\n",
       "   \u001b[1m3: \u001b[0mSimpleNet()                \u001b[32m/\u001b[0m type(torch.int64)\n",
       "   \u001b[32m   │                            │\n",
       "      ▼ x                          ▼ args\u001b[0m\n",
       "   \u001b[1m4: \u001b[0mlambda x: x.max(1).indices \u001b[32m/\u001b[0m padl.Identity()  "
      ]
     },
     "execution_count": 20,
     "metadata": {},
     "output_type": "execute_result"
    }
   ],
   "source": [
    "validation_model = (\n",
    "    train_model\n",
    "    >> padl.transform(lambda x: x.max(1).indices) / padl.Identity()\n",
    ")\n",
    "\n",
    "# We need to send the validation_model to device again\n",
    "validation_model.pd_to(device)"
   ]
  },
  {
   "cell_type": "code",
   "execution_count": 21,
   "id": "27736457",
   "metadata": {},
   "outputs": [
    {
     "name": "stdout",
     "output_type": "stream",
     "text": [
      "Accuracy of model: 0.949\n"
     ]
    }
   ],
   "source": [
    "# Compute accuracy over the test dataset\n",
    "\n",
    "accuracy = 0\n",
    "for batch_output, batch_targets in validation_model.eval_apply(mnist_test_dataset, num_workers=0, batch_size=256):\n",
    "    accuracy += (batch_targets == batch_output).sum()\n",
    "\n",
    "accuracy = accuracy.item()/ len(mnist_test_dataset)\n",
    "print(f'Accuracy of model: {accuracy}')"
   ]
  },
  {
   "cell_type": "markdown",
   "id": "fe11f570",
   "metadata": {},
   "source": [
    "Not a bad accuracy of `~0.95` for a quick train model."
   ]
  },
  {
   "cell_type": "markdown",
   "id": "f57fe164",
   "metadata": {},
   "source": [
    "### 3.2 Infer few images from test data\n",
    "\n",
    "Although we do not have labels for images in test data, we can still infer and verify the predictions ourselves. For that, we can again use model object `simplenet` that we have trained by using `train_model` and now stack it with other `transform`s to build an infer model."
   ]
  },
  {
   "cell_type": "code",
   "execution_count": 22,
   "id": "278c177b",
   "metadata": {},
   "outputs": [
    {
     "data": {
      "text/plain": [
       "\u001b[1mCompose\u001b[0m:\n",
       "\n",
       "   \u001b[32m   │\n",
       "      ▼ args\u001b[0m\n",
       "   \u001b[1m0: \u001b[0m__getitem__(0)            \n",
       "   \u001b[32m   │\n",
       "      ▼ img\u001b[0m\n",
       "   \u001b[1m1: \u001b[0mconvert_to_tensor         \n",
       "   \u001b[32m   │\n",
       "      ▼ args\u001b[0m\n",
       "   \u001b[1m2: \u001b[0mBatchify(dim=0)           \n",
       "   \u001b[32m   │\n",
       "      ▼ args\u001b[0m\n",
       "   \u001b[1m3: \u001b[0munsqueeze(1)              \n",
       "   \u001b[32m   │\n",
       "      ▼ x\u001b[0m\n",
       "   \u001b[1m4: \u001b[0mSimpleNet()               \n",
       "   \u001b[32m   │\n",
       "      ▼ x\u001b[0m\n",
       "   \u001b[1m5: \u001b[0mlambda x: x.max(1).indices"
      ]
     },
     "execution_count": 22,
     "metadata": {},
     "output_type": "execute_result"
    }
   ],
   "source": [
    "infer_preprocess =(\n",
    "    padl.this[0]\n",
    "    >> convert_to_tensor\n",
    ")\n",
    "infer_model = (\n",
    "    infer_preprocess\n",
    "    >> padl.Batchify()\n",
    "    >> padl.this.unsqueeze(1) \n",
    "    >> simplenet\n",
    "    >> padl.transform(lambda x: x.max(1).indices)\n",
    ")\n",
    "\n",
    "infer_model.pd_to(device)"
   ]
  },
  {
   "cell_type": "code",
   "execution_count": 23,
   "id": "dca7d6ec",
   "metadata": {
    "scrolled": false
   },
   "outputs": [
    {
     "data": {
      "image/png": "[encoded data removed]",
      "text/plain": [
       "<Figure size 144x144 with 1 Axes>"
      ]
     },
     "metadata": {
      "needs_background": "light"
     },
     "output_type": "display_data"
    },
    {
     "name": "stdout",
     "output_type": "stream",
     "text": [
      "Prediction: 9\n",
      "------------------------------\n"
     ]
    },
    {
     "data": {
      "image/png": "[encoded data removed]",
      "text/plain": [
       "<Figure size 144x144 with 1 Axes>"
      ]
     },
     "metadata": {
      "needs_background": "light"
     },
     "output_type": "display_data"
    },
    {
     "name": "stdout",
     "output_type": "stream",
     "text": [
      "Prediction: 3\n",
      "------------------------------\n"
     ]
    },
    {
     "data": {
      "image/png": "[encoded data removed]",
      "text/plain": [
       "<Figure size 144x144 with 1 Axes>"
      ]
     },
     "metadata": {
      "needs_background": "light"
     },
     "output_type": "display_data"
    },
    {
     "name": "stdout",
     "output_type": "stream",
     "text": [
      "Prediction: 9\n",
      "------------------------------\n"
     ]
    },
    {
     "data": {
      "image/png": "[encoded data removed]",
      "text/plain": [
       "<Figure size 144x144 with 1 Axes>"
      ]
     },
     "metadata": {
      "needs_background": "light"
     },
     "output_type": "display_data"
    },
    {
     "name": "stdout",
     "output_type": "stream",
     "text": [
      "Prediction: 0\n",
      "------------------------------\n"
     ]
    },
    {
     "data": {
      "image/png": "[encoded data removed]",
      "text/plain": [
       "<Figure size 144x144 with 1 Axes>"
      ]
     },
     "metadata": {
      "needs_background": "light"
     },
     "output_type": "display_data"
    },
    {
     "name": "stdout",
     "output_type": "stream",
     "text": [
      "Prediction: 0\n",
      "------------------------------\n"
     ]
    }
   ],
   "source": [
    "for _ in range(5):\n",
    "    data_point = mnist_test_dataset[np.random.randint(len(mnist_test_dataset))]\n",
    "    output = plot_datapoint(data_point)\n",
    "    plt.show()\n",
    "    print(f'Prediction: {infer_model.infer_apply(data_point).item()}')\n",
    "    print('-'*30)"
   ]
  },
  {
   "cell_type": "markdown",
   "id": "ab222191",
   "metadata": {},
   "source": [
    "<hr style=\"border:1px solid\"> </hr>\n",
    "\n",
    "\n",
    "### 4. Using further image augmentation on training\n",
    "\n",
    "We can easily use some of the `torchvision.transforms` for image augmentation and add it to our preproccessing of image to help with training. Lets add a couple of augmentations to our training: `GaussianBlur` and `RandomRotation`\n",
    "We need to wrap the call to these `torchvision.transforms` with our `padl.transform` before instantiating them, and that is all. "
   ]
  },
  {
   "cell_type": "code",
   "execution_count": 24,
   "id": "543ba923",
   "metadata": {},
   "outputs": [],
   "source": [
    "import torchvision.transforms as T"
   ]
  },
  {
   "cell_type": "code",
   "execution_count": 25,
   "id": "f645938e",
   "metadata": {},
   "outputs": [],
   "source": [
    "gaussian_blur = transform(T.GaussianBlur)(kernel_size=(3,3), sigma=0.1)\n",
    "\n",
    "rotate_img = transform(T.RandomRotation)(degrees=(-15,15))"
   ]
  },
  {
   "cell_type": "markdown",
   "id": "248a0a2f",
   "metadata": {},
   "source": [
    "Now we can again use `padl`'s functional api to build an `image_augmentation` pipeline.\n",
    "\n",
    "Note: `torchvision.transforms` expect images with channels but our images are just in grayscale. So, we need to unsqueeze our image tensor here."
   ]
  },
  {
   "cell_type": "code",
   "execution_count": 26,
   "id": "5f39aa23",
   "metadata": {},
   "outputs": [],
   "source": [
    "image_augmentation = (\n",
    "    padl.this.unsqueeze(0)\n",
    "    >> rotate_img\n",
    "    >> gaussian_blur\n",
    "    >> padl.this[0]\n",
    ")"
   ]
  },
  {
   "cell_type": "markdown",
   "id": "92e0dc1b",
   "metadata": {},
   "source": [
    "####  Sample of image augmentation\n",
    "\n",
    "Lets try the augmentation on one of image. "
   ]
  },
  {
   "cell_type": "code",
   "execution_count": 28,
   "id": "209547d9",
   "metadata": {},
   "outputs": [
    {
     "name": "stdout",
     "output_type": "stream",
     "text": [
      "tensor shape: torch.Size([28, 28])\n"
     ]
    },
    {
     "data": {
      "image/png": "[encoded data removed]",
      "text/plain": [
       "<Figure size 144x144 with 1 Axes>"
      ]
     },
     "metadata": {
      "needs_background": "light"
     },
     "output_type": "display_data"
    }
   ],
   "source": [
    "datapoint = mnist_train_dataset[2]\n",
    "\n",
    "# plot datapoint \n",
    "plot_datapoint(datapoint)\n",
    "\n",
    "# convert datapoint's image to tensor\n",
    "img_tensor = convert_to_tensor(datapoint[0])\n",
    "\n",
    "# tensor shape\n",
    "print('tensor shape:', img_tensor.shape)"
   ]
  },
  {
   "cell_type": "markdown",
   "id": "4ce4d5f5",
   "metadata": {},
   "source": [
    "Augmented images: Running image augmentation on same image tensor"
   ]
  },
  {
   "cell_type": "code",
   "execution_count": 29,
   "id": "05fa5c93",
   "metadata": {},
   "outputs": [
    {
     "data": {
      "image/png": "[encoded data removed]",
      "text/plain": [
       "<Figure size 144x144 with 1 Axes>"
      ]
     },
     "metadata": {
      "needs_background": "light"
     },
     "output_type": "display_data"
    },
    {
     "data": {
      "image/png": "[encoded data removed]",
      "text/plain": [
       "<Figure size 144x144 with 1 Axes>"
      ]
     },
     "metadata": {
      "needs_background": "light"
     },
     "output_type": "display_data"
    },
    {
     "data": {
      "image/png": "[encoded data removed]",
      "text/plain": [
       "<Figure size 144x144 with 1 Axes>"
      ]
     },
     "metadata": {
      "needs_background": "light"
     },
     "output_type": "display_data"
    },
    {
     "data": {
      "image/png": "[encoded data removed]",
      "text/plain": [
       "<Figure size 144x144 with 1 Axes>"
      ]
     },
     "metadata": {
      "needs_background": "light"
     },
     "output_type": "display_data"
    },
    {
     "data": {
      "image/png": "[encoded data removed]",
      "text/plain": [
       "<Figure size 144x144 with 1 Axes>"
      ]
     },
     "metadata": {
      "needs_background": "light"
     },
     "output_type": "display_data"
    }
   ],
   "source": [
    "for _ in range(5):\n",
    "    out_aug = image_augmentation(img_tensor)\n",
    "    plot_image(out_aug)"
   ]
  },
  {
   "cell_type": "markdown",
   "id": "cda6005c",
   "metadata": {},
   "source": [
    "### 4.2 We can add the `image_augmentation` pipeline easily to the `preprocess` and rebuild `train_model`"
   ]
  },
  {
   "cell_type": "code",
   "execution_count": 30,
   "id": "b49e0712",
   "metadata": {},
   "outputs": [
    {
     "data": {
      "text/plain": [
       "\u001b[1mCompose\u001b[0m:\n",
       "\n",
       "   \u001b[32m   │└─────────────────────────────┐\n",
       "      │                              │\n",
       "      ▼ img                          ▼ img\u001b[0m\n",
       "   \u001b[1m0: \u001b[0mconvert_to_tensor            \u001b[32m/\u001b[0m convert_to_tensor\n",
       "   \u001b[32m   │                              │\n",
       "      ▼ args                         ▼ args\u001b[0m\n",
       "   \u001b[1m1: \u001b[0mreshape(-1, 28, 28)          \u001b[32m/\u001b[0m padl.Identity()  \n",
       "   \u001b[32m   │                              │\n",
       "      ▼ args                         ▼ args\u001b[0m\n",
       "   \u001b[1m2: \u001b[0m\u001b[32m[\u001b[0mimage_augmentation: ..\u001b[32m>>\u001b[0m..\u001b[32m]\u001b[0m \u001b[32m/\u001b[0m padl.Identity()  \n",
       "   \u001b[32m   │\n",
       "      ▼ args\u001b[0m\n",
       "   \u001b[1m3: \u001b[0mBatchify(dim=0)             \n",
       "   \u001b[32m   │└─────────────────────────────┐\n",
       "      │                              │\n",
       "      ▼ x                            ▼ args\u001b[0m\n",
       "   \u001b[1m4: \u001b[0mSimpleNet()                  \u001b[32m/\u001b[0m type(torch.int64)"
      ]
     },
     "execution_count": 30,
     "metadata": {},
     "output_type": "execute_result"
    }
   ],
   "source": [
    "preprocess_with_augmentation = (\n",
    "    convert_to_tensor / convert_to_tensor\n",
    "    >> padl.this.reshape(-1, 28, 28) / padl.Identity()\n",
    "    >> image_augmentation / padl.Identity()\n",
    ")\n",
    "\n",
    "train_model = (\n",
    "    preprocess_with_augmentation\n",
    "    >> padl.Batchify()\n",
    "    >> simplenet / padl.this.type(torch.long)\n",
    ")\n",
    "\n",
    "\n",
    "train_model.pd_to(device)"
   ]
  },
  {
   "cell_type": "markdown",
   "id": "fd544eca",
   "metadata": {},
   "source": [
    "### 4.3 Retraining the model with `image_augmentation`"
   ]
  },
  {
   "cell_type": "code",
   "execution_count": 31,
   "id": "cffaae3c",
   "metadata": {
    "scrolled": true
   },
   "outputs": [
    {
     "name": "stdout",
     "output_type": "stream",
     "text": [
      "Epoch:0; Step: 0; loss: 0.32127583026885986\n",
      "Epoch:0; Step: 10; loss: 0.28310921788215637\n",
      "Epoch:0; Step: 20; loss: 0.37270084023475647\n",
      "Epoch:0; Step: 30; loss: 0.341715544462204\n",
      "Epoch:0; Step: 40; loss: 0.23670774698257446\n",
      "Epoch:0; Step: 50; loss: 0.29833006858825684\n",
      "Epoch:0; Step: 60; loss: 0.23841330409049988\n",
      "Epoch:0; Step: 70; loss: 0.20184899866580963\n",
      "Epoch:0; Step: 80; loss: 0.28233492374420166\n",
      "Epoch:0; Step: 90; loss: 0.21004031598567963\n",
      "Epoch:0; Step: 100; loss: 0.21558339893817902\n",
      "Epoch:0; Step: 110; loss: 0.2617678940296173\n",
      "Epoch:0; Step: 120; loss: 0.2567138373851776\n",
      "Epoch:0; Step: 130; loss: 0.24003081023693085\n",
      "Epoch:0; Step: 140; loss: 0.19946454465389252\n",
      "Epoch:0; Step: 150; loss: 0.21926629543304443\n",
      "Epoch:0; Step: 160; loss: 0.18367506563663483\n",
      "Epoch:0; Step: 170; loss: 0.19670942425727844\n",
      "Epoch:0; Step: 180; loss: 0.25974568724632263\n",
      "Epoch:0; Step: 190; loss: 0.1497238427400589\n",
      "Epoch:0; Step: 200; loss: 0.17082056403160095\n",
      "Epoch:0; Step: 210; loss: 0.21646824479103088\n",
      "Epoch:0; Step: 220; loss: 0.19863227009773254\n",
      "Epoch:0; Step: 230; loss: 0.04893667250871658\n",
      "Epoch:1; Step: 0; loss: 0.19727320969104767\n",
      "Epoch:1; Step: 10; loss: 0.17249901592731476\n",
      "Epoch:1; Step: 20; loss: 0.24625997245311737\n",
      "Epoch:1; Step: 30; loss: 0.2123267501592636\n",
      "Epoch:1; Step: 40; loss: 0.1660865992307663\n",
      "Epoch:1; Step: 50; loss: 0.25713714957237244\n",
      "Epoch:1; Step: 60; loss: 0.19159336388111115\n",
      "Epoch:1; Step: 70; loss: 0.1330374926328659\n",
      "Epoch:1; Step: 80; loss: 0.20974503457546234\n",
      "Epoch:1; Step: 90; loss: 0.18196849524974823\n",
      "Epoch:1; Step: 100; loss: 0.19427219033241272\n",
      "Epoch:1; Step: 110; loss: 0.23398856818675995\n",
      "Epoch:1; Step: 120; loss: 0.24615713953971863\n",
      "Epoch:1; Step: 130; loss: 0.18039870262145996\n",
      "Epoch:1; Step: 140; loss: 0.1898404061794281\n",
      "Epoch:1; Step: 150; loss: 0.1909160614013672\n",
      "Epoch:1; Step: 160; loss: 0.18827158212661743\n",
      "Epoch:1; Step: 170; loss: 0.13561831414699554\n",
      "Epoch:1; Step: 180; loss: 0.22158066928386688\n",
      "Epoch:1; Step: 190; loss: 0.11466304957866669\n",
      "Epoch:1; Step: 200; loss: 0.1729547530412674\n",
      "Epoch:1; Step: 210; loss: 0.19796967506408691\n",
      "Epoch:1; Step: 220; loss: 0.174199178814888\n",
      "Epoch:1; Step: 230; loss: 0.05051735043525696\n",
      "Epoch:2; Step: 0; loss: 0.19098712503910065\n",
      "Epoch:2; Step: 10; loss: 0.1572117656469345\n",
      "Epoch:2; Step: 20; loss: 0.2613510489463806\n",
      "Epoch:2; Step: 30; loss: 0.24245916306972504\n",
      "Epoch:2; Step: 40; loss: 0.13173560798168182\n",
      "Epoch:2; Step: 50; loss: 0.23269647359848022\n",
      "Epoch:2; Step: 60; loss: 0.1654384881258011\n",
      "Epoch:2; Step: 70; loss: 0.1463681310415268\n",
      "Epoch:2; Step: 80; loss: 0.2320900410413742\n",
      "Epoch:2; Step: 90; loss: 0.1484825760126114\n",
      "Epoch:2; Step: 100; loss: 0.1637241393327713\n",
      "Epoch:2; Step: 110; loss: 0.21291570365428925\n",
      "Epoch:2; Step: 120; loss: 0.23380424082279205\n",
      "Epoch:2; Step: 130; loss: 0.20331627130508423\n",
      "Epoch:2; Step: 140; loss: 0.19305892288684845\n",
      "Epoch:2; Step: 150; loss: 0.19027788937091827\n",
      "Epoch:2; Step: 160; loss: 0.15357324481010437\n",
      "Epoch:2; Step: 170; loss: 0.15402454137802124\n",
      "Epoch:2; Step: 180; loss: 0.23473630845546722\n",
      "Epoch:2; Step: 190; loss: 0.1396263986825943\n",
      "Epoch:2; Step: 200; loss: 0.16771972179412842\n",
      "Epoch:2; Step: 210; loss: 0.20064403116703033\n",
      "Epoch:2; Step: 220; loss: 0.1745293140411377\n",
      "Epoch:2; Step: 230; loss: 0.04223841056227684\n"
     ]
    }
   ],
   "source": [
    "learning_rate = 0.01\n",
    "momentum = 0.5\n",
    "log_interval = 10\n",
    "nepoch = 3\n",
    "num_workers = 0\n",
    "\n",
    "optimizer = optim.SGD(train_model.pd_parameters(), lr=learning_rate, momentum = momentum)\n",
    "exp_lr_scheduler = lr_scheduler.StepLR(optimizer, step_size=7, gamma=0.95)\n",
    "\n",
    "\n",
    "\n",
    "for epoch in range(nepoch):\n",
    "    step_counter = 0\n",
    "    for batch_output, batch_targets in train_model.train_apply(mnist_train_dataset, num_workers=num_workers, batch_size=256):\n",
    "\n",
    "        optimizer.zero_grad()\n",
    "\n",
    "        loss = F.nll_loss(batch_output, batch_targets)\n",
    "\n",
    "        loss.backward()\n",
    "\n",
    "        optimizer.step()\n",
    "        exp_lr_scheduler.step()\n",
    "\n",
    "        if step_counter % log_interval == 0:\n",
    "            print(f'Epoch:{epoch}; Step: {step_counter}; loss: {loss}')\n",
    "        step_counter += 1"
   ]
  },
  {
   "cell_type": "markdown",
   "id": "d3b3aeb9",
   "metadata": {},
   "source": [
    "### 4.4 Validate the model"
   ]
  },
  {
   "cell_type": "code",
   "execution_count": 32,
   "id": "4cadda40",
   "metadata": {},
   "outputs": [
    {
     "name": "stdout",
     "output_type": "stream",
     "text": [
      "Accuracy of model: 0.9698\n"
     ]
    }
   ],
   "source": [
    "# Calculate accuracy\n",
    "accuracy = 0\n",
    "for batch_output, batch_targets in validation_model.eval_apply(mnist_test_dataset, num_workers=0, batch_size=256):\n",
    "    accuracy += (batch_targets == batch_output).sum()\n",
    "\n",
    "accuracy = accuracy.item()/ len(mnist_test_dataset)\n",
    "print(f'Accuracy of model: {accuracy}')"
   ]
  }
 ],
 "metadata": {
  "kernelspec": {
   "display_name": "tenen_env",
   "language": "python",
   "name": "tenen_env"
  },
  "language_info": {
   "codemirror_mode": {
    "name": "ipython",
    "version": 3
   },
   "file_extension": ".py",
   "mimetype": "text/x-python",
   "name": "python",
   "nbconvert_exporter": "python",
   "pygments_lexer": "ipython3",
   "version": "3.8.8"
  }
 },
 "nbformat": 4,
 "nbformat_minor": 5
}
