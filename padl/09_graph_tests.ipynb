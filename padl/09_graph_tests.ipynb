{
 "cells": [
  {
   "cell_type": "code",
   "execution_count": 2,
   "id": "d8b05bc1",
   "metadata": {},
   "outputs": [],
   "source": [
    "import padl\n",
    "from padl import *\n",
    "from padl.transforms import *\n",
    "\n",
    "\n",
    "GLOBAL_1 = 0\n",
    "GLOBAL_1 = GLOBAL_1 + 5\n",
    "\n",
    "\n",
    "class PrettyMock:\n",
    "    @staticmethod\n",
    "    def text(x):\n",
    "        return x\n",
    "\n",
    "\n",
    "@transform\n",
    "def plus_global(x):\n",
    "    return x + GLOBAL_1\n",
    "\n",
    "\n",
    "@transform\n",
    "def plus_one(x):\n",
    "    return x + 1\n",
    "\n",
    "\n",
    "@transform\n",
    "def append_one(x):\n",
    "    return x + \"one\"\n",
    "\n",
    "\n",
    "@transform\n",
    "def times_two(x):\n",
    "    return x * 2\n",
    "\n",
    "\n",
    "@transform\n",
    "def plus(x, y):\n",
    "    return x + y\n",
    "\n",
    "\n",
    "@transform\n",
    "def get_info(x):\n",
    "    return x['info']\n",
    "\n",
    "\n",
    "@transform\n",
    "def complex_signature_func_1(a, b=10):\n",
    "    return a+b\n",
    "\n",
    "\n",
    "@transform\n",
    "def complex_signature_func_2(*a, b=10):\n",
    "    return sum(a) + b\n",
    "\n",
    "\n",
    "def simple_func(x):\n",
    "    return x\n",
    "\n",
    "\n",
    "class SimpleClass:\n",
    "    def __init__(self, a):\n",
    "        self.a = a\n",
    "\n",
    "    def __call__(self, x):\n",
    "        return x + self.a\n",
    "\n",
    "\n",
    "@transform\n",
    "class SimpleClassTransform:\n",
    "    def __init__(self, a):\n",
    "        self.a = a\n",
    "\n",
    "    def __call__(self, x):\n",
    "        return x + self.a\n",
    "\n",
    "\n",
    "@transform\n",
    "class ClassTransformWithManyArguments:\n",
    "    def __init__(self, a, b, *args, c=1, d=2, **kwargs):\n",
    "        self.a = a\n",
    "\n",
    "    def __call__(self, x):\n",
    "        return x + self.a\n",
    "\n",
    "\n",
    "@transform\n",
    "def trans_with_globals(x, y):\n",
    "    return (plus >> times_two)(x, y)\n",
    "\n",
    "\n",
    "@transform\n",
    "class ClassLookup:\n",
    "    def __init__(self, dic):\n",
    "        self.dic = dic\n",
    "\n",
    "    def __call__(self, args):\n",
    "        return [self.dic.get(x, len(self.dic)) for x in args]\n",
    "\n",
    "\n",
    "@transform\n",
    "class Polynomial(torch.nn.Module):\n",
    "    def __init__(self, a, b):\n",
    "        super().__init__()\n",
    "        self.a = torch.nn.Parameter(torch.tensor(float(a)))\n",
    "        self.b = torch.nn.Parameter(torch.tensor(float(b)))\n",
    "\n",
    "    def forward(self, x):\n",
    "        return x**self.a + x**self.b\n",
    "\n",
    "\n",
    "class PolynomialClass(torch.nn.Module):\n",
    "    def __init__(self, a, b):\n",
    "        super().__init__()\n",
    "        self.a = torch.nn.Parameter(torch.tensor(float(a)))\n",
    "        self.b = torch.nn.Parameter(torch.tensor(float(b)))\n",
    "\n",
    "    def forward(self, x):\n",
    "        return x**self.a + x**self.b\n",
    "\n"
   ]
  },
  {
   "cell_type": "markdown",
   "id": "c3404d77",
   "metadata": {},
   "source": [
    "# TestNamedTupleOutput"
   ]
  },
  {
   "cell_type": "code",
   "execution_count": 4,
   "id": "d2da667c",
   "metadata": {},
   "outputs": [],
   "source": [
    "transform_1 = plus_one\n",
    "transform_2 = transform_1 >> (times_two + times_two)\n",
    "transform_3 = transform_2 >> (times_two / times_two)\n"
   ]
  },
  {
   "cell_type": "code",
   "execution_count": 24,
   "id": "f6308826",
   "metadata": {},
   "outputs": [
    {
     "data": {
      "text/plain": [
       "5"
      ]
     },
     "execution_count": 24,
     "metadata": {},
     "output_type": "execute_result"
    }
   ],
   "source": [
    "transform_1.infer_apply(4)"
   ]
  },
  {
   "cell_type": "code",
   "execution_count": 26,
   "id": "1eac61e0",
   "metadata": {},
   "outputs": [
    {
     "ename": "TypeError",
     "evalue": "cannot unpack non-iterable NoneType object",
     "output_type": "error",
     "traceback": [
      "\u001b[0;31m---------------------------------------------------------------------------\u001b[0m",
      "\u001b[0;31mTypeError\u001b[0m                                 Traceback (most recent call last)",
      "\u001b[0;32m<ipython-input-26-94b438298130>\u001b[0m in \u001b[0;36m<module>\u001b[0;34m\u001b[0m\n\u001b[0;32m----> 1\u001b[0;31m \u001b[0mtransform_2\u001b[0m\u001b[0;34m.\u001b[0m\u001b[0minfer_apply\u001b[0m\u001b[0;34m(\u001b[0m\u001b[0;36m1\u001b[0m\u001b[0;34m)\u001b[0m\u001b[0;34m\u001b[0m\u001b[0;34m\u001b[0m\u001b[0m\n\u001b[0m",
      "\u001b[0;32m~/Aleph-One-GmbH/notebooks/01_graph_for_padl/padl/transforms.py\u001b[0m in \u001b[0;36minfer_apply\u001b[0;34m(self, inputs)\u001b[0m\n\u001b[1;32m    974\u001b[0m         \u001b[0m_pd_trace\u001b[0m\u001b[0;34m.\u001b[0m\u001b[0mclear\u001b[0m\u001b[0;34m(\u001b[0m\u001b[0;34m)\u001b[0m\u001b[0;34m\u001b[0m\u001b[0;34m\u001b[0m\u001b[0m\n\u001b[1;32m    975\u001b[0m \u001b[0;34m\u001b[0m\u001b[0m\n\u001b[0;32m--> 976\u001b[0;31m         \u001b[0mpreprocess\u001b[0m \u001b[0;34m=\u001b[0m \u001b[0mself\u001b[0m\u001b[0;34m.\u001b[0m\u001b[0mpd_preprocess\u001b[0m\u001b[0;34m\u001b[0m\u001b[0;34m\u001b[0m\u001b[0m\n\u001b[0m\u001b[1;32m    977\u001b[0m         \u001b[0mforward\u001b[0m \u001b[0;34m=\u001b[0m \u001b[0mself\u001b[0m\u001b[0;34m.\u001b[0m\u001b[0mpd_forward\u001b[0m\u001b[0;34m\u001b[0m\u001b[0;34m\u001b[0m\u001b[0m\n\u001b[1;32m    978\u001b[0m         \u001b[0mpostprocess\u001b[0m \u001b[0;34m=\u001b[0m \u001b[0mself\u001b[0m\u001b[0;34m.\u001b[0m\u001b[0mpd_postprocess\u001b[0m\u001b[0;34m\u001b[0m\u001b[0;34m\u001b[0m\u001b[0m\n",
      "\u001b[0;32m~/Aleph-One-GmbH/notebooks/01_graph_for_padl/padl/transforms.py\u001b[0m in \u001b[0;36mpd_preprocess\u001b[0;34m(self)\u001b[0m\n\u001b[1;32m    898\u001b[0m     \u001b[0;32mdef\u001b[0m \u001b[0mpd_preprocess\u001b[0m\u001b[0;34m(\u001b[0m\u001b[0mself\u001b[0m\u001b[0;34m)\u001b[0m \u001b[0;34m->\u001b[0m \u001b[0;34m\"Transform\"\u001b[0m\u001b[0;34m:\u001b[0m\u001b[0;34m\u001b[0m\u001b[0;34m\u001b[0m\u001b[0m\n\u001b[1;32m    899\u001b[0m         \u001b[0;34m\"\"\"The preprocessing part of the transform. The device must be propagated from self.\"\"\"\u001b[0m\u001b[0;34m\u001b[0m\u001b[0;34m\u001b[0m\u001b[0m\n\u001b[0;32m--> 900\u001b[0;31m         \u001b[0mpre\u001b[0m \u001b[0;34m=\u001b[0m \u001b[0mself\u001b[0m\u001b[0;34m.\u001b[0m\u001b[0mpd_stages\u001b[0m\u001b[0;34m[\u001b[0m\u001b[0;36m0\u001b[0m\u001b[0;34m]\u001b[0m\u001b[0;34m\u001b[0m\u001b[0;34m\u001b[0m\u001b[0m\n\u001b[0m\u001b[1;32m    901\u001b[0m         \u001b[0mpre\u001b[0m\u001b[0;34m.\u001b[0m\u001b[0mpd_device\u001b[0m \u001b[0;34m=\u001b[0m \u001b[0mself\u001b[0m\u001b[0;34m.\u001b[0m\u001b[0mpd_device\u001b[0m\u001b[0;34m\u001b[0m\u001b[0;34m\u001b[0m\u001b[0m\n\u001b[1;32m    902\u001b[0m         \u001b[0;32mreturn\u001b[0m \u001b[0mpre\u001b[0m\u001b[0;34m\u001b[0m\u001b[0;34m\u001b[0m\u001b[0m\n",
      "\u001b[0;32m~/Aleph-One-GmbH/notebooks/01_graph_for_padl/padl/transforms.py\u001b[0m in \u001b[0;36mpd_stages\u001b[0;34m(self)\u001b[0m\n\u001b[1;32m    244\u001b[0m     \u001b[0;32mdef\u001b[0m \u001b[0mpd_stages\u001b[0m\u001b[0;34m(\u001b[0m\u001b[0mself\u001b[0m\u001b[0;34m)\u001b[0m\u001b[0;34m:\u001b[0m\u001b[0;34m\u001b[0m\u001b[0;34m\u001b[0m\u001b[0m\n\u001b[1;32m    245\u001b[0m         \u001b[0;34m\"\"\"Get a tuple of the pre-process, forward, and post-process stages.\"\"\"\u001b[0m\u001b[0;34m\u001b[0m\u001b[0;34m\u001b[0m\u001b[0m\n\u001b[0;32m--> 246\u001b[0;31m         \u001b[0m_\u001b[0m\u001b[0;34m,\u001b[0m \u001b[0msplits\u001b[0m\u001b[0;34m,\u001b[0m \u001b[0mhas_batchify\u001b[0m \u001b[0;34m=\u001b[0m \u001b[0mself\u001b[0m\u001b[0;34m.\u001b[0m\u001b[0m_pd_splits\u001b[0m\u001b[0;34m(\u001b[0m\u001b[0;34m)\u001b[0m\u001b[0;34m\u001b[0m\u001b[0;34m\u001b[0m\u001b[0m\n\u001b[0m\u001b[1;32m    247\u001b[0m         \u001b[0;32mif\u001b[0m \u001b[0mhas_batchify\u001b[0m\u001b[0;34m:\u001b[0m\u001b[0;34m\u001b[0m\u001b[0;34m\u001b[0m\u001b[0m\n\u001b[1;32m    248\u001b[0m             \u001b[0mpreprocess\u001b[0m\u001b[0;34m,\u001b[0m \u001b[0mforward\u001b[0m\u001b[0;34m,\u001b[0m \u001b[0mpostprocess\u001b[0m \u001b[0;34m=\u001b[0m \u001b[0msplits\u001b[0m\u001b[0;34m\u001b[0m\u001b[0;34m\u001b[0m\u001b[0m\n",
      "\u001b[0;31mTypeError\u001b[0m: cannot unpack non-iterable NoneType object"
     ]
    }
   ],
   "source": [
    "transform_2.infer_apply(1)"
   ]
  },
  {
   "cell_type": "code",
   "execution_count": 14,
   "id": "6d74a04b",
   "metadata": {},
   "outputs": [
    {
     "data": {
      "text/plain": [
       "\u001b[1mplus_one\u001b[0m:\n",
       "\n",
       "   def plus_one(x):\n",
       "       return x + 1\n"
      ]
     },
     "execution_count": 14,
     "metadata": {},
     "output_type": "execute_result"
    }
   ],
   "source": [
    "plus_one"
   ]
  },
  {
   "cell_type": "code",
   "execution_count": 7,
   "id": "5159da2e",
   "metadata": {},
   "outputs": [
    {
     "data": {
      "text/plain": [
       "\u001b[1mCompose\u001b[0m - \"transform_3\":\n",
       "\n",
       "   \u001b[1m0: \u001b[0mplus_one\n",
       "   \u001b[32mNotImplemented\u001b[0m  \n",
       "   \u001b[1m1: \u001b[0mtimes_two \u001b[32m+\u001b[0m times_two\n",
       "   \u001b[32mNotImplemented\u001b[0m  \n",
       "   \u001b[1m2: \u001b[0mtimes_two \u001b[32m/\u001b[0m times_two\n"
      ]
     },
     "execution_count": 7,
     "metadata": {},
     "output_type": "execute_result"
    }
   ],
   "source": [
    "transform_3"
   ]
  },
  {
   "cell_type": "code",
   "execution_count": null,
   "id": "07302723",
   "metadata": {},
   "outputs": [],
   "source": []
  }
 ],
 "metadata": {
  "kernelspec": {
   "display_name": "tenen_env",
   "language": "python",
   "name": "tenen_env"
  },
  "language_info": {
   "codemirror_mode": {
    "name": "ipython",
    "version": 3
   },
   "file_extension": ".py",
   "mimetype": "text/x-python",
   "name": "python",
   "nbconvert_exporter": "python",
   "pygments_lexer": "ipython3",
   "version": "3.8.8"
  }
 },
 "nbformat": 4,
 "nbformat_minor": 5
}
